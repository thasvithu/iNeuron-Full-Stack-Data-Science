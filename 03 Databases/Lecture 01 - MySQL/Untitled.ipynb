{
 "cells": [
  {
   "cell_type": "code",
   "execution_count": 1,
   "id": "7b5498fb",
   "metadata": {},
   "outputs": [],
   "source": [
    "import mysql.connector as connection"
   ]
  },
  {
   "cell_type": "code",
   "execution_count": 3,
   "id": "a78b5738",
   "metadata": {},
   "outputs": [],
   "source": [
    "mydb = connection.connect(\n",
    "    host = \"localhost\",\n",
    "    user = \"root\",\n",
    "    password = \"mysql\",\n",
    ")"
   ]
  },
  {
   "cell_type": "code",
   "execution_count": 4,
   "id": "8559586d",
   "metadata": {},
   "outputs": [
    {
     "data": {
      "text/plain": [
       "<mysql.connector.connection.MySQLConnection at 0x12df9558510>"
      ]
     },
     "execution_count": 4,
     "metadata": {},
     "output_type": "execute_result"
    }
   ],
   "source": [
    "mydb"
   ]
  },
  {
   "cell_type": "code",
   "execution_count": 14,
   "id": "7a14d084",
   "metadata": {},
   "outputs": [],
   "source": [
    "cursor = mydb.cursor()"
   ]
  },
  {
   "cell_type": "code",
   "execution_count": 15,
   "id": "5ba4f284",
   "metadata": {},
   "outputs": [],
   "source": [
    "cursor.execute(\"SHOW DATABASES;\")"
   ]
  },
  {
   "cell_type": "code",
   "execution_count": 16,
   "id": "72a20e8b",
   "metadata": {},
   "outputs": [],
   "source": [
    "result = cursor.fetchall()"
   ]
  },
  {
   "cell_type": "code",
   "execution_count": 25,
   "id": "fa5f477c",
   "metadata": {},
   "outputs": [
    {
     "name": "stdout",
     "output_type": "stream",
     "text": [
      "database not found\n"
     ]
    }
   ],
   "source": [
    "if \"acp\" in result:\n",
    "    print(\"Database fount\")\n",
    "else:\n",
    "    print(\"database not found\")"
   ]
  },
  {
   "cell_type": "code",
   "execution_count": 27,
   "id": "2ff06051",
   "metadata": {},
   "outputs": [
    {
     "data": {
      "text/plain": [
       "[('acp',),\n",
       " ('blog',),\n",
       " ('blog1',),\n",
       " ('datascience1',),\n",
       " ('datascience2',),\n",
       " ('information_schema',),\n",
       " ('learnvista_db',),\n",
       " ('mysql',),\n",
       " ('performance_schema',),\n",
       " ('practice',),\n",
       " ('python_crud',),\n",
       " ('sys',),\n",
       " ('test01',),\n",
       " ('vithu_d16',)]"
      ]
     },
     "execution_count": 27,
     "metadata": {},
     "output_type": "execute_result"
    }
   ],
   "source": [
    "result"
   ]
  },
  {
   "cell_type": "code",
   "execution_count": 28,
   "id": "1f64ff1a",
   "metadata": {},
   "outputs": [],
   "source": [
    "cursor.execute(\"CREATE DATABASE sql_course\")"
   ]
  },
  {
   "cell_type": "code",
   "execution_count": 29,
   "id": "25310c34",
   "metadata": {},
   "outputs": [
    {
     "data": {
      "text/plain": [
       "[('acp',),\n",
       " ('blog',),\n",
       " ('blog1',),\n",
       " ('datascience1',),\n",
       " ('datascience2',),\n",
       " ('information_schema',),\n",
       " ('learnvista_db',),\n",
       " ('mysql',),\n",
       " ('performance_schema',),\n",
       " ('practice',),\n",
       " ('python_crud',),\n",
       " ('sql_course',),\n",
       " ('sys',),\n",
       " ('test01',),\n",
       " ('vithu_d16',)]"
      ]
     },
     "execution_count": 29,
     "metadata": {},
     "output_type": "execute_result"
    }
   ],
   "source": [
    "cursor.execute(\"SHOW DATABASES;\")\n",
    "cursor.fetchall()"
   ]
  },
  {
   "cell_type": "code",
   "execution_count": null,
   "id": "e8a3ebb6",
   "metadata": {},
   "outputs": [],
   "source": []
  }
 ],
 "metadata": {
  "kernelspec": {
   "display_name": "Python 3 (ipykernel)",
   "language": "python",
   "name": "python3"
  },
  "language_info": {
   "codemirror_mode": {
    "name": "ipython",
    "version": 3
   },
   "file_extension": ".py",
   "mimetype": "text/x-python",
   "name": "python",
   "nbconvert_exporter": "python",
   "pygments_lexer": "ipython3",
   "version": "3.11.5"
  }
 },
 "nbformat": 4,
 "nbformat_minor": 5
}

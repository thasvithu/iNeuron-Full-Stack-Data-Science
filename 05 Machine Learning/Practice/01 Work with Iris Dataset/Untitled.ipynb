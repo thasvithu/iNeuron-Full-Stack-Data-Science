{
 "cells": [
  {
   "cell_type": "markdown",
   "id": "004e9636-da33-4644-9886-245efc346192",
   "metadata": {
    "jupyter": {
     "source_hidden": true
    }
   },
   "source": [
    "Sure! Working with the **Iris dataset** is a great way to practice and demonstrate your data science skills. Below, I’ve compiled a comprehensive list of **100+ questions** that you can use to explore, analyze, and model the dataset. These questions are categorized into different sections like **Exploratory Data Analysis (EDA)**, **Feature Engineering**, **Machine Learning**, and more.\n",
    "\n",
    "Feel free to pick and choose the ones that align with your goals or answer all of them for a thorough understanding!\n",
    "\n",
    "---\n",
    "\n",
    "### **Section 1: Dataset Overview**\n",
    "1. How many rows and columns are in the Iris dataset?\n",
    "2. What are the names of the columns in the dataset?\n",
    "3. What is the target variable in the Iris dataset?\n",
    "4. How many unique species are there in the dataset?\n",
    "5. How many samples are there for each species?\n",
    "6. Is there any missing data in the dataset?\n",
    "7. What is the range of values for each feature (sepal length, sepal width, petal length, petal width)?\n",
    "8. What is the data type of each column in the dataset?\n",
    "9. Are there any duplicate rows in the dataset?\n",
    "10. What is the purpose of the `id` column (if present), and can it be removed?\n",
    "\n",
    "---\n",
    "\n",
    "### **Section 2: Exploratory Data Analysis (EDA)**\n",
    "#### **Summary Statistics**\n",
    "11. What is the mean, median, and standard deviation of each feature?\n",
    "12. What is the minimum and maximum value of each feature?\n",
    "13. Which feature has the highest variance?\n",
    "14. Which feature has the smallest range (max - min)?\n",
    "15. What is the interquartile range (IQR) for each feature?\n",
    "16. Are there any features with zero variance?\n",
    "17. What is the skewness of each feature?\n",
    "18. What is the kurtosis of each feature?\n",
    "19. Which feature has the most outliers?\n",
    "20. What percentage of the dataset belongs to each species?\n",
    "\n",
    "#### **Visualizations**\n",
    "21. Create a histogram for each feature. What do you observe?\n",
    "22. Plot a boxplot for each feature. Are there any outliers?\n",
    "23. Create a pair plot to visualize relationships between features. What patterns do you see?\n",
    "24. Plot a correlation heatmap. Which features are highly correlated?\n",
    "25. Visualize the distribution of each feature using density plots.\n",
    "26. Create scatter plots for each pair of features, colored by species. What insights can you draw?\n",
    "27. Plot a bar chart showing the count of each species.\n",
    "28. Create a violin plot for each feature, grouped by species.\n",
    "29. Visualize the relationship between petal length and petal width using a scatter plot.\n",
    "30. Create a stacked bar chart showing the proportion of each species.\n",
    "\n",
    "---\n",
    "\n",
    "### **Section 3: Feature Engineering**\n",
    "#### **Feature Creation**\n",
    "31. Create a new feature called `sepal_area` as the product of `sepal_length` and `sepal_width`.\n",
    "32. Create a new feature called `petal_area` as the product of `petal_length` and `petal_width`.\n",
    "33. Create a binary feature indicating whether `petal_length` is greater than the mean petal length.\n",
    "34. Create a categorical feature dividing `sepal_length` into three bins: small, medium, and large.\n",
    "35. Normalize all numerical features to have a mean of 0 and a standard deviation of 1.\n",
    "36. Scale all features to a range of [0, 1].\n",
    "37. Encode the `species` column into numerical labels (e.g., 0, 1, 2).\n",
    "38. Perform one-hot encoding on the `species` column.\n",
    "39. Apply log transformation to all features. Does it improve normality?\n",
    "40. Create interaction terms between `sepal_length` and `petal_length`.\n",
    "\n",
    "#### **Dimensionality Reduction**\n",
    "41. Apply PCA to reduce the dataset to 2 dimensions. What percentage of variance is retained?\n",
    "42. Plot the first two principal components. Are the species separable?\n",
    "43. Apply t-SNE to visualize the dataset in 2D. How does it compare to PCA?\n",
    "44. Use LDA (Linear Discriminant Analysis) to reduce dimensionality. What is the accuracy of LDA as a classifier?\n",
    "45. Compare the results of PCA, t-SNE, and LDA visually.\n",
    "\n",
    "---\n",
    "\n",
    "### **Section 4: Machine Learning Modeling**\n",
    "#### **Data Preparation**\n",
    "46. Split the dataset into training and testing sets (80/20 split).\n",
    "47. Perform stratified sampling to ensure class balance in the splits.\n",
    "48. Standardize the features before training models.\n",
    "49. Encode the target variable (`species`) as numerical labels.\n",
    "50. Perform feature selection to identify the most important features.\n",
    "\n",
    "#### **Model Training**\n",
    "51. Train a Logistic Regression model. What is the accuracy?\n",
    "52. Train a Decision Tree classifier. What is the accuracy?\n",
    "53. Train a Random Forest classifier. What is the accuracy?\n",
    "54. Train a Support Vector Machine (SVM). What is the accuracy?\n",
    "55. Train a K-Nearest Neighbors (KNN) model. What is the accuracy?\n",
    "56. Train a Naive Bayes classifier. What is the accuracy?\n",
    "57. Train an XGBoost classifier. What is the accuracy?\n",
    "58. Compare the performance of all models. Which performs best?\n",
    "59. Perform cross-validation (5-fold) for each model. What are the average scores?\n",
    "60. Tune hyperparameters for the Random Forest model using Grid Search.\n",
    "\n",
    "#### **Evaluation**\n",
    "61. Calculate the confusion matrix for each model.\n",
    "62. Compute precision, recall, and F1-score for each model.\n",
    "63. Plot ROC curves for each model. What is the AUC score?\n",
    "64. Identify the false positives and false negatives for each model.\n",
    "65. Analyze feature importance for tree-based models. Which features are most important?\n",
    "66. Evaluate model performance on unseen data. Is there overfitting?\n",
    "67. Perform error analysis. Why are certain predictions incorrect?\n",
    "68. Compare the performance of scaled vs. unscaled features.\n",
    "69. Test the model on a single sample. Does it predict correctly?\n",
    "70. Save the trained model using `joblib` or `pickle`.\n",
    "\n",
    "---\n",
    "\n",
    "### **Section 5: Advanced Techniques**\n",
    "#### **Clustering**\n",
    "71. Apply K-Means clustering to group the flowers into 3 clusters. How well does it match the species?\n",
    "72. Apply Hierarchical Clustering. What is the dendrogram like?\n",
    "73. Use DBSCAN to detect outliers. Are there any anomalies?\n",
    "74. Compare the results of K-Means, Hierarchical Clustering, and DBSCAN.\n",
    "75. Visualize the clusters using PCA.\n",
    "\n",
    "#### **Anomaly Detection**\n",
    "76. Use Isolation Forest to detect outliers. How many are detected?\n",
    "77. Use Local Outlier Factor (LOF) to detect anomalies. What are the results?\n",
    "78. Compare the performance of Isolation Forest and LOF.\n",
    "79. Visualize the detected anomalies in a scatter plot.\n",
    "80. Remove outliers and retrain the classification model. Does performance improve?\n",
    "\n",
    "#### **Model Interpretability**\n",
    "81. Use SHAP values to interpret the Random Forest model.\n",
    "82. Use LIME to explain individual predictions.\n",
    "83. Visualize feature contributions using permutation importance.\n",
    "84. Create partial dependence plots for key features.\n",
    "85. Analyze decision boundaries for the classification models.\n",
    "\n",
    "---\n",
    "\n",
    "### **Section 6: Miscellaneous**\n",
    "86. Write a function to calculate the Euclidean distance between two flowers.\n",
    "87. Write a function to classify a flower based on its features.\n",
    "88. Simulate new data points and test the model’s predictions.\n",
    "89. Create a dashboard to visualize the dataset and model results.\n",
    "90. Export the dataset to Excel or CSV after preprocessing.\n",
    "91. Automate the entire workflow using a Python script.\n",
    "92. Document your findings in a Jupyter Notebook.\n",
    "93. Create a presentation summarizing your analysis.\n",
    "94. Deploy the model as a REST API using Flask or FastAPI.\n",
    "95. Test the API with sample inputs.\n",
    "96. Compare the performance of different libraries (e.g., Scikit-learn vs. TensorFlow).\n",
    "97. Experiment with neural networks for classification.\n",
    "98. Write unit tests for your preprocessing and modeling functions.\n",
    "99. Optimize the code for speed and memory usage.\n",
    "100. Share your project on GitHub with proper documentation.\n",
    "\n",
    "---\n",
    "\n",
    "### **Bonus Questions (Optional)**\n",
    "101. Can you use this dataset for regression tasks? If so, how?\n",
    "102. How would you handle imbalanced data if the dataset were imbalanced?\n",
    "103. What is the impact of removing one feature on model performance?\n",
    "104. Can you build a recommendation system using this dataset? If so, how?\n",
    "105. How would you handle streaming data for real-time predictions?\n",
    "106. Can you apply transfer learning to this dataset? If so, how?\n",
    "107. What is the impact of adding noise to the dataset on model performance?\n",
    "108. How would you handle missing data if it were introduced artificially?\n",
    "109. Can you create synthetic data using SMOTE or GANs?\n",
    "110. How would you deploy this model in a cloud environment (e.g., AWS, GCP)?\n",
    "\n",
    "---"
   ]
  },
  {
   "cell_type": "code",
   "execution_count": 1,
   "id": "887aaca8-c343-429d-aabd-273a24b96cd6",
   "metadata": {},
   "outputs": [],
   "source": [
    "import numpy as np\n",
    "import pandas as pd\n",
    "import matplotlib.pyplot as plt"
   ]
  },
  {
   "cell_type": "code",
   "execution_count": 2,
   "id": "fd97fd59-d0a9-460f-ae0a-c801dc53a8ce",
   "metadata": {},
   "outputs": [],
   "source": [
    "# load the dataset\n",
    "iris = pd.read_csv(\"https://raw.githubusercontent.com/thasvithu/DatasetLibrary/refs/heads/main/Iris.csv\")"
   ]
  },
  {
   "cell_type": "code",
   "execution_count": 3,
   "id": "68048d88-7f87-4092-b4d8-ccf4ab135f41",
   "metadata": {},
   "outputs": [
    {
     "data": {
      "text/html": [
       "<div>\n",
       "<style scoped>\n",
       "    .dataframe tbody tr th:only-of-type {\n",
       "        vertical-align: middle;\n",
       "    }\n",
       "\n",
       "    .dataframe tbody tr th {\n",
       "        vertical-align: top;\n",
       "    }\n",
       "\n",
       "    .dataframe thead th {\n",
       "        text-align: right;\n",
       "    }\n",
       "</style>\n",
       "<table border=\"1\" class=\"dataframe\">\n",
       "  <thead>\n",
       "    <tr style=\"text-align: right;\">\n",
       "      <th></th>\n",
       "      <th>Id</th>\n",
       "      <th>SepalLengthCm</th>\n",
       "      <th>SepalWidthCm</th>\n",
       "      <th>PetalLengthCm</th>\n",
       "      <th>PetalWidthCm</th>\n",
       "      <th>Species</th>\n",
       "    </tr>\n",
       "  </thead>\n",
       "  <tbody>\n",
       "    <tr>\n",
       "      <th>0</th>\n",
       "      <td>1</td>\n",
       "      <td>5.1</td>\n",
       "      <td>3.5</td>\n",
       "      <td>1.4</td>\n",
       "      <td>0.2</td>\n",
       "      <td>Iris-setosa</td>\n",
       "    </tr>\n",
       "    <tr>\n",
       "      <th>1</th>\n",
       "      <td>2</td>\n",
       "      <td>4.9</td>\n",
       "      <td>3.0</td>\n",
       "      <td>1.4</td>\n",
       "      <td>0.2</td>\n",
       "      <td>Iris-setosa</td>\n",
       "    </tr>\n",
       "    <tr>\n",
       "      <th>2</th>\n",
       "      <td>3</td>\n",
       "      <td>4.7</td>\n",
       "      <td>3.2</td>\n",
       "      <td>1.3</td>\n",
       "      <td>0.2</td>\n",
       "      <td>Iris-setosa</td>\n",
       "    </tr>\n",
       "    <tr>\n",
       "      <th>3</th>\n",
       "      <td>4</td>\n",
       "      <td>4.6</td>\n",
       "      <td>3.1</td>\n",
       "      <td>1.5</td>\n",
       "      <td>0.2</td>\n",
       "      <td>Iris-setosa</td>\n",
       "    </tr>\n",
       "    <tr>\n",
       "      <th>4</th>\n",
       "      <td>5</td>\n",
       "      <td>5.0</td>\n",
       "      <td>3.6</td>\n",
       "      <td>1.4</td>\n",
       "      <td>0.2</td>\n",
       "      <td>Iris-setosa</td>\n",
       "    </tr>\n",
       "  </tbody>\n",
       "</table>\n",
       "</div>"
      ],
      "text/plain": [
       "   Id  SepalLengthCm  SepalWidthCm  PetalLengthCm  PetalWidthCm      Species\n",
       "0   1            5.1           3.5            1.4           0.2  Iris-setosa\n",
       "1   2            4.9           3.0            1.4           0.2  Iris-setosa\n",
       "2   3            4.7           3.2            1.3           0.2  Iris-setosa\n",
       "3   4            4.6           3.1            1.5           0.2  Iris-setosa\n",
       "4   5            5.0           3.6            1.4           0.2  Iris-setosa"
      ]
     },
     "execution_count": 3,
     "metadata": {},
     "output_type": "execute_result"
    }
   ],
   "source": [
    "iris.head()"
   ]
  },
  {
   "cell_type": "markdown",
   "id": "aa98f74a-e808-4da2-a3cf-dcdbb45c1f36",
   "metadata": {
    "jp-MarkdownHeadingCollapsed": true
   },
   "source": [
    "### **Section 1: Dataset Overview**"
   ]
  },
  {
   "cell_type": "markdown",
   "id": "7013989b-6d76-4a50-8865-92d6c7335b63",
   "metadata": {},
   "source": [
    "1. How many rows and columns are in the Iris dataset?"
   ]
  },
  {
   "cell_type": "code",
   "execution_count": 4,
   "id": "eb230e33-d08b-4fe9-8f84-e7fd773a4abf",
   "metadata": {},
   "outputs": [
    {
     "name": "stdout",
     "output_type": "stream",
     "text": [
      "Rows : 150 \n",
      "Columns : 6\n"
     ]
    }
   ],
   "source": [
    "print(f\"Rows : {iris.shape[0]} \\nColumns : {iris.shape[1]}\")"
   ]
  },
  {
   "cell_type": "markdown",
   "id": "bba53cd0-5c22-4e64-953f-36cd800ab613",
   "metadata": {},
   "source": [
    "2. What are the names of the columns in the dataset?"
   ]
  },
  {
   "cell_type": "code",
   "execution_count": 5,
   "id": "3b491f30-10da-44d1-997f-80b7fcc8e50c",
   "metadata": {},
   "outputs": [
    {
     "data": {
      "text/plain": [
       "Index(['Id', 'SepalLengthCm', 'SepalWidthCm', 'PetalLengthCm', 'PetalWidthCm',\n",
       "       'Species'],\n",
       "      dtype='object')"
      ]
     },
     "execution_count": 5,
     "metadata": {},
     "output_type": "execute_result"
    }
   ],
   "source": [
    "iris.columns"
   ]
  },
  {
   "cell_type": "markdown",
   "id": "18846c88-27f3-4206-a356-e12f7fcc65b7",
   "metadata": {},
   "source": [
    "3. What is the target variable in the Iris dataset?"
   ]
  },
  {
   "cell_type": "code",
   "execution_count": 6,
   "id": "e0935ea0-8a94-4070-9c6d-c9d5cb1b33e7",
   "metadata": {},
   "outputs": [
    {
     "name": "stdout",
     "output_type": "stream",
     "text": [
      "Target Variable is :  0         Iris-setosa\n",
      "1         Iris-setosa\n",
      "2         Iris-setosa\n",
      "3         Iris-setosa\n",
      "4         Iris-setosa\n",
      "            ...      \n",
      "145    Iris-virginica\n",
      "146    Iris-virginica\n",
      "147    Iris-virginica\n",
      "148    Iris-virginica\n",
      "149    Iris-virginica\n",
      "Name: Species, Length: 150, dtype: object\n"
     ]
    }
   ],
   "source": [
    "print(\"Target Variable is : \", iris.Species)"
   ]
  },
  {
   "cell_type": "markdown",
   "id": "73751ba1-9a85-40fd-a265-81b3eb0b110c",
   "metadata": {},
   "source": [
    "4. How many unique species are there in the dataset?"
   ]
  },
  {
   "cell_type": "code",
   "execution_count": 7,
   "id": "473d1878-569e-4ec9-8b25-fd068f8cc60b",
   "metadata": {},
   "outputs": [
    {
     "data": {
      "text/plain": [
       "array(['Iris-setosa', 'Iris-versicolor', 'Iris-virginica'], dtype=object)"
      ]
     },
     "execution_count": 7,
     "metadata": {},
     "output_type": "execute_result"
    }
   ],
   "source": [
    "iris[\"Species\"].unique()"
   ]
  },
  {
   "cell_type": "markdown",
   "id": "75a4ddf2-e247-48d4-a653-57ca806b3d00",
   "metadata": {},
   "source": [
    "5. How many samples are there for each species?"
   ]
  },
  {
   "cell_type": "code",
   "execution_count": 8,
   "id": "324dbf85-aa3d-42c8-bca7-b3f6cb2a142a",
   "metadata": {},
   "outputs": [
    {
     "data": {
      "text/plain": [
       "Species\n",
       "Iris-setosa        50\n",
       "Iris-versicolor    50\n",
       "Iris-virginica     50\n",
       "Name: Species, dtype: int64"
      ]
     },
     "execution_count": 8,
     "metadata": {},
     "output_type": "execute_result"
    }
   ],
   "source": [
    "# method 1\n",
    "iris.groupby(\"Species\")[\"Species\"].count()"
   ]
  },
  {
   "cell_type": "code",
   "execution_count": 9,
   "id": "69207658-75e9-42ef-976e-379ef83de229",
   "metadata": {},
   "outputs": [
    {
     "data": {
      "text/html": [
       "<div>\n",
       "<style scoped>\n",
       "    .dataframe tbody tr th:only-of-type {\n",
       "        vertical-align: middle;\n",
       "    }\n",
       "\n",
       "    .dataframe tbody tr th {\n",
       "        vertical-align: top;\n",
       "    }\n",
       "\n",
       "    .dataframe thead th {\n",
       "        text-align: right;\n",
       "    }\n",
       "</style>\n",
       "<table border=\"1\" class=\"dataframe\">\n",
       "  <thead>\n",
       "    <tr style=\"text-align: right;\">\n",
       "      <th></th>\n",
       "      <th>Species</th>\n",
       "    </tr>\n",
       "    <tr>\n",
       "      <th>Species</th>\n",
       "      <th></th>\n",
       "    </tr>\n",
       "  </thead>\n",
       "  <tbody>\n",
       "    <tr>\n",
       "      <th>Iris-setosa</th>\n",
       "      <td>50</td>\n",
       "    </tr>\n",
       "    <tr>\n",
       "      <th>Iris-versicolor</th>\n",
       "      <td>50</td>\n",
       "    </tr>\n",
       "    <tr>\n",
       "      <th>Iris-virginica</th>\n",
       "      <td>50</td>\n",
       "    </tr>\n",
       "  </tbody>\n",
       "</table>\n",
       "</div>"
      ],
      "text/plain": [
       "                 Species\n",
       "Species                 \n",
       "Iris-setosa           50\n",
       "Iris-versicolor       50\n",
       "Iris-virginica        50"
      ]
     },
     "execution_count": 9,
     "metadata": {},
     "output_type": "execute_result"
    }
   ],
   "source": [
    "# method 2\n",
    "iris.groupby(\"Species\").agg({\"Species\":\"count\"})"
   ]
  },
  {
   "cell_type": "code",
   "execution_count": 10,
   "id": "846294a1-487e-441a-81f7-f1b3a57da54d",
   "metadata": {},
   "outputs": [
    {
     "data": {
      "text/plain": [
       "Species\n",
       "Iris-setosa        50\n",
       "Iris-versicolor    50\n",
       "Iris-virginica     50\n",
       "Name: count, dtype: int64"
      ]
     },
     "execution_count": 10,
     "metadata": {},
     "output_type": "execute_result"
    }
   ],
   "source": [
    "# method 3\n",
    "iris[\"Species\"].value_counts()"
   ]
  },
  {
   "cell_type": "code",
   "execution_count": 11,
   "id": "45381842-3994-4f02-8785-e130c7960c51",
   "metadata": {},
   "outputs": [
    {
     "data": {
      "text/plain": [
       "Species\n",
       "Iris-setosa        50\n",
       "Iris-versicolor    50\n",
       "Iris-virginica     50\n",
       "dtype: int64"
      ]
     },
     "execution_count": 11,
     "metadata": {},
     "output_type": "execute_result"
    }
   ],
   "source": [
    "# meethod 4\n",
    "iris.groupby(\"Species\").size()"
   ]
  },
  {
   "cell_type": "code",
   "execution_count": 12,
   "id": "73afe0e5-940e-4f2b-911b-2c5db0321559",
   "metadata": {},
   "outputs": [
    {
     "data": {
      "text/html": [
       "<div>\n",
       "<style scoped>\n",
       "    .dataframe tbody tr th:only-of-type {\n",
       "        vertical-align: middle;\n",
       "    }\n",
       "\n",
       "    .dataframe tbody tr th {\n",
       "        vertical-align: top;\n",
       "    }\n",
       "\n",
       "    .dataframe thead th {\n",
       "        text-align: right;\n",
       "    }\n",
       "</style>\n",
       "<table border=\"1\" class=\"dataframe\">\n",
       "  <thead>\n",
       "    <tr style=\"text-align: right;\">\n",
       "      <th></th>\n",
       "      <th>SepalLengthCm</th>\n",
       "    </tr>\n",
       "    <tr>\n",
       "      <th>Species</th>\n",
       "      <th></th>\n",
       "    </tr>\n",
       "  </thead>\n",
       "  <tbody>\n",
       "    <tr>\n",
       "      <th>Iris-setosa</th>\n",
       "      <td>50</td>\n",
       "    </tr>\n",
       "    <tr>\n",
       "      <th>Iris-versicolor</th>\n",
       "      <td>50</td>\n",
       "    </tr>\n",
       "    <tr>\n",
       "      <th>Iris-virginica</th>\n",
       "      <td>50</td>\n",
       "    </tr>\n",
       "  </tbody>\n",
       "</table>\n",
       "</div>"
      ],
      "text/plain": [
       "                 SepalLengthCm\n",
       "Species                       \n",
       "Iris-setosa                 50\n",
       "Iris-versicolor             50\n",
       "Iris-virginica              50"
      ]
     },
     "execution_count": 12,
     "metadata": {},
     "output_type": "execute_result"
    }
   ],
   "source": [
    "# method 5\n",
    "iris.pivot_table(index=\"Species\", values=\"SepalLengthCm\", aggfunc=\"count\")"
   ]
  },
  {
   "cell_type": "code",
   "execution_count": 13,
   "id": "a2927c9c-2904-4eaf-887e-699e4633024e",
   "metadata": {},
   "outputs": [
    {
     "data": {
      "text/html": [
       "<div>\n",
       "<style scoped>\n",
       "    .dataframe tbody tr th:only-of-type {\n",
       "        vertical-align: middle;\n",
       "    }\n",
       "\n",
       "    .dataframe tbody tr th {\n",
       "        vertical-align: top;\n",
       "    }\n",
       "\n",
       "    .dataframe thead th {\n",
       "        text-align: right;\n",
       "    }\n",
       "</style>\n",
       "<table border=\"1\" class=\"dataframe\">\n",
       "  <thead>\n",
       "    <tr style=\"text-align: right;\">\n",
       "      <th>col_0</th>\n",
       "      <th>Count</th>\n",
       "    </tr>\n",
       "    <tr>\n",
       "      <th>Species</th>\n",
       "      <th></th>\n",
       "    </tr>\n",
       "  </thead>\n",
       "  <tbody>\n",
       "    <tr>\n",
       "      <th>Iris-setosa</th>\n",
       "      <td>50</td>\n",
       "    </tr>\n",
       "    <tr>\n",
       "      <th>Iris-versicolor</th>\n",
       "      <td>50</td>\n",
       "    </tr>\n",
       "    <tr>\n",
       "      <th>Iris-virginica</th>\n",
       "      <td>50</td>\n",
       "    </tr>\n",
       "  </tbody>\n",
       "</table>\n",
       "</div>"
      ],
      "text/plain": [
       "col_0            Count\n",
       "Species               \n",
       "Iris-setosa         50\n",
       "Iris-versicolor     50\n",
       "Iris-virginica      50"
      ]
     },
     "execution_count": 13,
     "metadata": {},
     "output_type": "execute_result"
    }
   ],
   "source": [
    "# method 6\n",
    "pd.crosstab(iris[\"Species\"], columns=\"Count\")"
   ]
  },
  {
   "cell_type": "code",
   "execution_count": 14,
   "id": "08b311a8-e7e4-4e72-b229-63adedda4d4a",
   "metadata": {},
   "outputs": [
    {
     "data": {
      "text/plain": [
       "Species\n",
       "Iris-setosa        50\n",
       "Iris-versicolor    50\n",
       "Iris-virginica     50\n",
       "Name: Species, dtype: int64"
      ]
     },
     "execution_count": 14,
     "metadata": {},
     "output_type": "execute_result"
    }
   ],
   "source": [
    "# method 7\n",
    "iris.groupby(\"Species\")[\"Species\"].apply(lambda x: x.count())"
   ]
  },
  {
   "cell_type": "markdown",
   "id": "b82bbe05-c8f4-4d4a-9f74-5b0c8561ac5b",
   "metadata": {},
   "source": [
    "6. Is there any missing data in the dataset?"
   ]
  },
  {
   "cell_type": "code",
   "execution_count": 15,
   "id": "87a3ff9e-7a26-48c1-969e-480c4c48abf8",
   "metadata": {},
   "outputs": [
    {
     "data": {
      "text/plain": [
       "Id               0\n",
       "SepalLengthCm    0\n",
       "SepalWidthCm     0\n",
       "PetalLengthCm    0\n",
       "PetalWidthCm     0\n",
       "Species          0\n",
       "dtype: int64"
      ]
     },
     "execution_count": 15,
     "metadata": {},
     "output_type": "execute_result"
    }
   ],
   "source": [
    "iris.isnull().sum()"
   ]
  },
  {
   "cell_type": "markdown",
   "id": "c08fb67d-3101-4ef1-a59c-50c7321303bb",
   "metadata": {},
   "source": [
    "7. What is the range of values for each feature (sepal length, sepal width, petal length, petal width)?"
   ]
  },
  {
   "cell_type": "code",
   "execution_count": 16,
   "id": "9200c840-6948-46f3-b167-47928aedce51",
   "metadata": {},
   "outputs": [
    {
     "data": {
      "text/html": [
       "<div>\n",
       "<style scoped>\n",
       "    .dataframe tbody tr th:only-of-type {\n",
       "        vertical-align: middle;\n",
       "    }\n",
       "\n",
       "    .dataframe tbody tr th {\n",
       "        vertical-align: top;\n",
       "    }\n",
       "\n",
       "    .dataframe thead th {\n",
       "        text-align: right;\n",
       "    }\n",
       "</style>\n",
       "<table border=\"1\" class=\"dataframe\">\n",
       "  <thead>\n",
       "    <tr style=\"text-align: right;\">\n",
       "      <th></th>\n",
       "      <th>max</th>\n",
       "      <th>min</th>\n",
       "      <th>Range</th>\n",
       "    </tr>\n",
       "  </thead>\n",
       "  <tbody>\n",
       "    <tr>\n",
       "      <th>SepalLengthCm</th>\n",
       "      <td>7.9</td>\n",
       "      <td>4.3</td>\n",
       "      <td>3.6</td>\n",
       "    </tr>\n",
       "    <tr>\n",
       "      <th>SepalWidthCm</th>\n",
       "      <td>4.4</td>\n",
       "      <td>2.0</td>\n",
       "      <td>2.4</td>\n",
       "    </tr>\n",
       "    <tr>\n",
       "      <th>PetalLengthCm</th>\n",
       "      <td>6.9</td>\n",
       "      <td>1.0</td>\n",
       "      <td>5.9</td>\n",
       "    </tr>\n",
       "    <tr>\n",
       "      <th>PetalWidthCm</th>\n",
       "      <td>2.5</td>\n",
       "      <td>0.1</td>\n",
       "      <td>2.4</td>\n",
       "    </tr>\n",
       "  </tbody>\n",
       "</table>\n",
       "</div>"
      ],
      "text/plain": [
       "               max  min  Range\n",
       "SepalLengthCm  7.9  4.3    3.6\n",
       "SepalWidthCm   4.4  2.0    2.4\n",
       "PetalLengthCm  6.9  1.0    5.9\n",
       "PetalWidthCm   2.5  0.1    2.4"
      ]
     },
     "execution_count": 16,
     "metadata": {},
     "output_type": "execute_result"
    }
   ],
   "source": [
    "iris[[\"SepalLengthCm\", \"SepalWidthCm\", \"PetalLengthCm\", \"PetalWidthCm\"]].agg([\"max\", \"min\"]).T.assign(Range=lambda df : df[\"max\"] - df[\"min\"])\n"
   ]
  },
  {
   "cell_type": "code",
   "execution_count": 17,
   "id": "25d7eade-aea5-459f-a007-18cab15a7729",
   "metadata": {},
   "outputs": [
    {
     "data": {
      "text/html": [
       "<div>\n",
       "<style scoped>\n",
       "    .dataframe tbody tr th:only-of-type {\n",
       "        vertical-align: middle;\n",
       "    }\n",
       "\n",
       "    .dataframe tbody tr th {\n",
       "        vertical-align: top;\n",
       "    }\n",
       "\n",
       "    .dataframe thead th {\n",
       "        text-align: right;\n",
       "    }\n",
       "</style>\n",
       "<table border=\"1\" class=\"dataframe\">\n",
       "  <thead>\n",
       "    <tr style=\"text-align: right;\">\n",
       "      <th></th>\n",
       "      <th>min</th>\n",
       "      <th>max</th>\n",
       "      <th>Range</th>\n",
       "    </tr>\n",
       "  </thead>\n",
       "  <tbody>\n",
       "    <tr>\n",
       "      <th>Id</th>\n",
       "      <td>1.0</td>\n",
       "      <td>150.0</td>\n",
       "      <td>149.0</td>\n",
       "    </tr>\n",
       "    <tr>\n",
       "      <th>SepalLengthCm</th>\n",
       "      <td>4.3</td>\n",
       "      <td>7.9</td>\n",
       "      <td>3.6</td>\n",
       "    </tr>\n",
       "    <tr>\n",
       "      <th>SepalWidthCm</th>\n",
       "      <td>2.0</td>\n",
       "      <td>4.4</td>\n",
       "      <td>2.4</td>\n",
       "    </tr>\n",
       "    <tr>\n",
       "      <th>PetalLengthCm</th>\n",
       "      <td>1.0</td>\n",
       "      <td>6.9</td>\n",
       "      <td>5.9</td>\n",
       "    </tr>\n",
       "    <tr>\n",
       "      <th>PetalWidthCm</th>\n",
       "      <td>0.1</td>\n",
       "      <td>2.5</td>\n",
       "      <td>2.4</td>\n",
       "    </tr>\n",
       "  </tbody>\n",
       "</table>\n",
       "</div>"
      ],
      "text/plain": [
       "               min    max  Range\n",
       "Id             1.0  150.0  149.0\n",
       "SepalLengthCm  4.3    7.9    3.6\n",
       "SepalWidthCm   2.0    4.4    2.4\n",
       "PetalLengthCm  1.0    6.9    5.9\n",
       "PetalWidthCm   0.1    2.5    2.4"
      ]
     },
     "execution_count": 17,
     "metadata": {},
     "output_type": "execute_result"
    }
   ],
   "source": [
    "iris.describe().loc[[\"min\", \"max\"]].T.assign(Range=lambda df : df[\"max\"] - df[\"min\"])"
   ]
  },
  {
   "cell_type": "markdown",
   "id": "cadea06d-d0cd-4df3-9395-f8f33f22743c",
   "metadata": {},
   "source": [
    "8. What is the data type of each column in the dataset?"
   ]
  },
  {
   "cell_type": "code",
   "execution_count": 18,
   "id": "1853afb6-596b-4f2b-9f5e-67e9a309da5a",
   "metadata": {},
   "outputs": [
    {
     "name": "stdout",
     "output_type": "stream",
     "text": [
      "<class 'pandas.core.frame.DataFrame'>\n",
      "RangeIndex: 150 entries, 0 to 149\n",
      "Data columns (total 6 columns):\n",
      " #   Column         Non-Null Count  Dtype  \n",
      "---  ------         --------------  -----  \n",
      " 0   Id             150 non-null    int64  \n",
      " 1   SepalLengthCm  150 non-null    float64\n",
      " 2   SepalWidthCm   150 non-null    float64\n",
      " 3   PetalLengthCm  150 non-null    float64\n",
      " 4   PetalWidthCm   150 non-null    float64\n",
      " 5   Species        150 non-null    object \n",
      "dtypes: float64(4), int64(1), object(1)\n",
      "memory usage: 7.2+ KB\n"
     ]
    }
   ],
   "source": [
    "iris.info()"
   ]
  },
  {
   "cell_type": "code",
   "execution_count": 19,
   "id": "f4cdf2b4-b01b-4536-9f10-c30d61d9e428",
   "metadata": {},
   "outputs": [
    {
     "data": {
      "text/plain": [
       "Id                 int64\n",
       "SepalLengthCm    float64\n",
       "SepalWidthCm     float64\n",
       "PetalLengthCm    float64\n",
       "PetalWidthCm     float64\n",
       "Species           object\n",
       "dtype: object"
      ]
     },
     "execution_count": 19,
     "metadata": {},
     "output_type": "execute_result"
    }
   ],
   "source": [
    "iris.dtypes"
   ]
  },
  {
   "cell_type": "markdown",
   "id": "c9508719-b2a1-4801-a620-21516c21901e",
   "metadata": {},
   "source": [
    "9. Are there any duplicate rows in the dataset?"
   ]
  },
  {
   "cell_type": "code",
   "execution_count": 20,
   "id": "a5fd1b08-429c-4eea-9fbd-62d9b70af4a0",
   "metadata": {},
   "outputs": [
    {
     "data": {
      "text/plain": [
       "0"
      ]
     },
     "execution_count": 20,
     "metadata": {},
     "output_type": "execute_result"
    }
   ],
   "source": [
    "iris.duplicated().sum()"
   ]
  },
  {
   "cell_type": "markdown",
   "id": "6952e6ec-514d-4b06-98f4-d2bed9d3708a",
   "metadata": {},
   "source": [
    "10. What is the purpose of the `id` column (if present), and can it be removed?"
   ]
  },
  {
   "cell_type": "markdown",
   "id": "24d9f3c0-8c76-44a9-ae43-400056d442a1",
   "metadata": {},
   "source": [
    "to identify the each row. \n",
    "yes it can be removed because pandas when loading any dataset automatically it assign indexes"
   ]
  },
  {
   "cell_type": "code",
   "execution_count": 21,
   "id": "faa24183-b1f5-4365-aa59-699c29bcf563",
   "metadata": {},
   "outputs": [],
   "source": [
    "iris.drop(columns=\"Id\", inplace=True)"
   ]
  },
  {
   "cell_type": "markdown",
   "id": "70e12702-c9d7-4dea-b688-6a2cb0ae729c",
   "metadata": {},
   "source": [
    "### **Section 2: Exploratory Data Analysis (EDA)**\n",
    "#### **Summary Statistics**"
   ]
  },
  {
   "cell_type": "markdown",
   "id": "a3476d06-5ee6-4ce7-ab01-945ba6f35a34",
   "metadata": {},
   "source": [
    "11. What is the mean, median, and standard deviation of each feature?"
   ]
  },
  {
   "cell_type": "code",
   "execution_count": 22,
   "id": "177ae251-4986-4605-a106-8ba7658b9378",
   "metadata": {},
   "outputs": [
    {
     "data": {
      "text/html": [
       "<div>\n",
       "<style scoped>\n",
       "    .dataframe tbody tr th:only-of-type {\n",
       "        vertical-align: middle;\n",
       "    }\n",
       "\n",
       "    .dataframe tbody tr th {\n",
       "        vertical-align: top;\n",
       "    }\n",
       "\n",
       "    .dataframe thead th {\n",
       "        text-align: right;\n",
       "    }\n",
       "</style>\n",
       "<table border=\"1\" class=\"dataframe\">\n",
       "  <thead>\n",
       "    <tr style=\"text-align: right;\">\n",
       "      <th></th>\n",
       "      <th>mean</th>\n",
       "      <th>std</th>\n",
       "      <th>median</th>\n",
       "    </tr>\n",
       "  </thead>\n",
       "  <tbody>\n",
       "    <tr>\n",
       "      <th>SepalLengthCm</th>\n",
       "      <td>5.843333</td>\n",
       "      <td>0.828066</td>\n",
       "      <td>5.80</td>\n",
       "    </tr>\n",
       "    <tr>\n",
       "      <th>SepalWidthCm</th>\n",
       "      <td>3.054000</td>\n",
       "      <td>0.433594</td>\n",
       "      <td>3.00</td>\n",
       "    </tr>\n",
       "    <tr>\n",
       "      <th>PetalLengthCm</th>\n",
       "      <td>3.758667</td>\n",
       "      <td>1.764420</td>\n",
       "      <td>4.35</td>\n",
       "    </tr>\n",
       "    <tr>\n",
       "      <th>PetalWidthCm</th>\n",
       "      <td>1.198667</td>\n",
       "      <td>0.763161</td>\n",
       "      <td>1.30</td>\n",
       "    </tr>\n",
       "  </tbody>\n",
       "</table>\n",
       "</div>"
      ],
      "text/plain": [
       "                   mean       std  median\n",
       "SepalLengthCm  5.843333  0.828066    5.80\n",
       "SepalWidthCm   3.054000  0.433594    3.00\n",
       "PetalLengthCm  3.758667  1.764420    4.35\n",
       "PetalWidthCm   1.198667  0.763161    1.30"
      ]
     },
     "execution_count": 22,
     "metadata": {},
     "output_type": "execute_result"
    }
   ],
   "source": [
    "iris.describe().loc[[\"mean\", \"std\"]].T.assign(median=lambda df : iris.median(numeric_only=True))"
   ]
  },
  {
   "cell_type": "code",
   "execution_count": 23,
   "id": "d320ec83-3113-44ea-a560-f99d4326597d",
   "metadata": {},
   "outputs": [
    {
     "data": {
      "text/html": [
       "<div>\n",
       "<style scoped>\n",
       "    .dataframe tbody tr th:only-of-type {\n",
       "        vertical-align: middle;\n",
       "    }\n",
       "\n",
       "    .dataframe tbody tr th {\n",
       "        vertical-align: top;\n",
       "    }\n",
       "\n",
       "    .dataframe thead th {\n",
       "        text-align: right;\n",
       "    }\n",
       "</style>\n",
       "<table border=\"1\" class=\"dataframe\">\n",
       "  <thead>\n",
       "    <tr style=\"text-align: right;\">\n",
       "      <th></th>\n",
       "      <th>mean</th>\n",
       "      <th>std</th>\n",
       "      <th>median</th>\n",
       "    </tr>\n",
       "  </thead>\n",
       "  <tbody>\n",
       "    <tr>\n",
       "      <th>SepalLengthCm</th>\n",
       "      <td>5.843333</td>\n",
       "      <td>0.828066</td>\n",
       "      <td>5.80</td>\n",
       "    </tr>\n",
       "    <tr>\n",
       "      <th>SepalWidthCm</th>\n",
       "      <td>3.054000</td>\n",
       "      <td>0.433594</td>\n",
       "      <td>3.00</td>\n",
       "    </tr>\n",
       "    <tr>\n",
       "      <th>PetalLengthCm</th>\n",
       "      <td>3.758667</td>\n",
       "      <td>1.764420</td>\n",
       "      <td>4.35</td>\n",
       "    </tr>\n",
       "    <tr>\n",
       "      <th>PetalWidthCm</th>\n",
       "      <td>1.198667</td>\n",
       "      <td>0.763161</td>\n",
       "      <td>1.30</td>\n",
       "    </tr>\n",
       "  </tbody>\n",
       "</table>\n",
       "</div>"
      ],
      "text/plain": [
       "                   mean       std  median\n",
       "SepalLengthCm  5.843333  0.828066    5.80\n",
       "SepalWidthCm   3.054000  0.433594    3.00\n",
       "PetalLengthCm  3.758667  1.764420    4.35\n",
       "PetalWidthCm   1.198667  0.763161    1.30"
      ]
     },
     "execution_count": 23,
     "metadata": {},
     "output_type": "execute_result"
    }
   ],
   "source": [
    "summary_stats = iris.describe().loc[[\"mean\", \"std\"]].T\n",
    "summary_stats[\"median\"] = iris.median(numeric_only=True)\n",
    "summary_stats"
   ]
  },
  {
   "cell_type": "markdown",
   "id": "84ab60c8-2e43-456f-95f7-9950d667e0a5",
   "metadata": {},
   "source": [
    "12. What is the minimum and maximum value of each feature?"
   ]
  },
  {
   "cell_type": "code",
   "execution_count": 24,
   "id": "fc15d4a4-c071-4c81-ac26-4ab7cc27cac1",
   "metadata": {},
   "outputs": [
    {
     "data": {
      "text/html": [
       "<div>\n",
       "<style scoped>\n",
       "    .dataframe tbody tr th:only-of-type {\n",
       "        vertical-align: middle;\n",
       "    }\n",
       "\n",
       "    .dataframe tbody tr th {\n",
       "        vertical-align: top;\n",
       "    }\n",
       "\n",
       "    .dataframe thead th {\n",
       "        text-align: right;\n",
       "    }\n",
       "</style>\n",
       "<table border=\"1\" class=\"dataframe\">\n",
       "  <thead>\n",
       "    <tr style=\"text-align: right;\">\n",
       "      <th></th>\n",
       "      <th>min</th>\n",
       "      <th>max</th>\n",
       "    </tr>\n",
       "  </thead>\n",
       "  <tbody>\n",
       "    <tr>\n",
       "      <th>SepalLengthCm</th>\n",
       "      <td>4.3</td>\n",
       "      <td>7.9</td>\n",
       "    </tr>\n",
       "    <tr>\n",
       "      <th>SepalWidthCm</th>\n",
       "      <td>2.0</td>\n",
       "      <td>4.4</td>\n",
       "    </tr>\n",
       "    <tr>\n",
       "      <th>PetalLengthCm</th>\n",
       "      <td>1.0</td>\n",
       "      <td>6.9</td>\n",
       "    </tr>\n",
       "    <tr>\n",
       "      <th>PetalWidthCm</th>\n",
       "      <td>0.1</td>\n",
       "      <td>2.5</td>\n",
       "    </tr>\n",
       "  </tbody>\n",
       "</table>\n",
       "</div>"
      ],
      "text/plain": [
       "               min  max\n",
       "SepalLengthCm  4.3  7.9\n",
       "SepalWidthCm   2.0  4.4\n",
       "PetalLengthCm  1.0  6.9\n",
       "PetalWidthCm   0.1  2.5"
      ]
     },
     "execution_count": 24,
     "metadata": {},
     "output_type": "execute_result"
    }
   ],
   "source": [
    "iris.describe().loc[[\"min\", \"max\"]].T"
   ]
  },
  {
   "cell_type": "markdown",
   "id": "8ccf6120-0202-4eff-a873-658af094e1bd",
   "metadata": {},
   "source": [
    "13. Which feature has the highest variance?"
   ]
  },
  {
   "cell_type": "code",
   "execution_count": 25,
   "id": "67051048-3e3a-4e2b-ae22-df61e7f28e91",
   "metadata": {},
   "outputs": [
    {
     "data": {
      "text/html": [
       "<div>\n",
       "<style scoped>\n",
       "    .dataframe tbody tr th:only-of-type {\n",
       "        vertical-align: middle;\n",
       "    }\n",
       "\n",
       "    .dataframe tbody tr th {\n",
       "        vertical-align: top;\n",
       "    }\n",
       "\n",
       "    .dataframe thead th {\n",
       "        text-align: right;\n",
       "    }\n",
       "</style>\n",
       "<table border=\"1\" class=\"dataframe\">\n",
       "  <thead>\n",
       "    <tr style=\"text-align: right;\">\n",
       "      <th></th>\n",
       "      <th>std</th>\n",
       "    </tr>\n",
       "  </thead>\n",
       "  <tbody>\n",
       "    <tr>\n",
       "      <th>SepalLengthCm</th>\n",
       "      <td>0.828066</td>\n",
       "    </tr>\n",
       "    <tr>\n",
       "      <th>SepalWidthCm</th>\n",
       "      <td>0.433594</td>\n",
       "    </tr>\n",
       "    <tr>\n",
       "      <th>PetalLengthCm</th>\n",
       "      <td>1.764420</td>\n",
       "    </tr>\n",
       "    <tr>\n",
       "      <th>PetalWidthCm</th>\n",
       "      <td>0.763161</td>\n",
       "    </tr>\n",
       "  </tbody>\n",
       "</table>\n",
       "</div>"
      ],
      "text/plain": [
       "                    std\n",
       "SepalLengthCm  0.828066\n",
       "SepalWidthCm   0.433594\n",
       "PetalLengthCm  1.764420\n",
       "PetalWidthCm   0.763161"
      ]
     },
     "execution_count": 25,
     "metadata": {},
     "output_type": "execute_result"
    }
   ],
   "source": [
    "iris.describe().loc[[\"std\"]].T"
   ]
  },
  {
   "cell_type": "code",
   "execution_count": 26,
   "id": "f9136c53-c145-4cd2-acc8-c0b369930b67",
   "metadata": {},
   "outputs": [
    {
     "data": {
      "text/plain": [
       "SepalLengthCm    0.685694\n",
       "SepalWidthCm     0.188004\n",
       "PetalLengthCm    3.113179\n",
       "PetalWidthCm     0.582414\n",
       "dtype: float64"
      ]
     },
     "execution_count": 26,
     "metadata": {},
     "output_type": "execute_result"
    }
   ],
   "source": [
    "iris.var(numeric_only=True)"
   ]
  },
  {
   "cell_type": "markdown",
   "id": "cf456cfc-335e-4efa-a35b-4d933bb55b71",
   "metadata": {},
   "source": [
    "14. Which feature has the smallest range (max - min)?"
   ]
  },
  {
   "cell_type": "code",
   "execution_count": 27,
   "id": "d5ff9c50-3d30-4d19-ac60-5e6ccbe03fad",
   "metadata": {},
   "outputs": [
    {
     "data": {
      "text/html": [
       "<div>\n",
       "<style scoped>\n",
       "    .dataframe tbody tr th:only-of-type {\n",
       "        vertical-align: middle;\n",
       "    }\n",
       "\n",
       "    .dataframe tbody tr th {\n",
       "        vertical-align: top;\n",
       "    }\n",
       "\n",
       "    .dataframe thead th {\n",
       "        text-align: right;\n",
       "    }\n",
       "</style>\n",
       "<table border=\"1\" class=\"dataframe\">\n",
       "  <thead>\n",
       "    <tr style=\"text-align: right;\">\n",
       "      <th></th>\n",
       "      <th>min</th>\n",
       "      <th>max</th>\n",
       "      <th>range</th>\n",
       "    </tr>\n",
       "  </thead>\n",
       "  <tbody>\n",
       "    <tr>\n",
       "      <th>SepalLengthCm</th>\n",
       "      <td>4.3</td>\n",
       "      <td>7.9</td>\n",
       "      <td>3.6</td>\n",
       "    </tr>\n",
       "    <tr>\n",
       "      <th>SepalWidthCm</th>\n",
       "      <td>2.0</td>\n",
       "      <td>4.4</td>\n",
       "      <td>2.4</td>\n",
       "    </tr>\n",
       "    <tr>\n",
       "      <th>PetalLengthCm</th>\n",
       "      <td>1.0</td>\n",
       "      <td>6.9</td>\n",
       "      <td>5.9</td>\n",
       "    </tr>\n",
       "    <tr>\n",
       "      <th>PetalWidthCm</th>\n",
       "      <td>0.1</td>\n",
       "      <td>2.5</td>\n",
       "      <td>2.4</td>\n",
       "    </tr>\n",
       "  </tbody>\n",
       "</table>\n",
       "</div>"
      ],
      "text/plain": [
       "               min  max  range\n",
       "SepalLengthCm  4.3  7.9    3.6\n",
       "SepalWidthCm   2.0  4.4    2.4\n",
       "PetalLengthCm  1.0  6.9    5.9\n",
       "PetalWidthCm   0.1  2.5    2.4"
      ]
     },
     "execution_count": 27,
     "metadata": {},
     "output_type": "execute_result"
    }
   ],
   "source": [
    "range_df = iris.describe().loc[[\"min\", \"max\"]].T.assign(range=lambda df : df[\"max\"] - df[\"min\"])\n",
    "range_df"
   ]
  },
  {
   "cell_type": "code",
   "execution_count": 28,
   "id": "ead31dcc-b161-40dd-9405-d759fa072c7c",
   "metadata": {
    "scrolled": true
   },
   "outputs": [
    {
     "data": {
      "text/plain": [
       "PetalWidthCm    2.4\n",
       "Name: range, dtype: float64"
      ]
     },
     "execution_count": 28,
     "metadata": {},
     "output_type": "execute_result"
    }
   ],
   "source": [
    "range_df[\"range\"].sort_values()[:1]"
   ]
  },
  {
   "cell_type": "code",
   "execution_count": 29,
   "id": "3ed26093-6031-4e6c-91a8-0239fd26e2e6",
   "metadata": {},
   "outputs": [
    {
     "data": {
      "text/plain": [
       "SepalLengthCm    3.6\n",
       "SepalWidthCm     2.4\n",
       "PetalLengthCm    5.9\n",
       "PetalWidthCm     2.4\n",
       "dtype: float64"
      ]
     },
     "execution_count": 29,
     "metadata": {},
     "output_type": "execute_result"
    }
   ],
   "source": [
    "iris.max(numeric_only=True) - iris.min(numeric_only=True)"
   ]
  },
  {
   "cell_type": "markdown",
   "id": "d79f2ee7-3e82-4e96-9c31-8b77d6bd7eb0",
   "metadata": {},
   "source": [
    "15. What is the interquartile range (IQR) for each feature?"
   ]
  },
  {
   "cell_type": "code",
   "execution_count": 30,
   "id": "757d40bf-9766-4cd5-b751-d0c919094ae5",
   "metadata": {},
   "outputs": [],
   "source": [
    "numeric_features = iris.select_dtypes(\"number\")"
   ]
  },
  {
   "cell_type": "code",
   "execution_count": 31,
   "id": "3ede1dc3-1e48-4470-bba7-f7bd69456eaf",
   "metadata": {},
   "outputs": [
    {
     "data": {
      "text/plain": [
       "[('q1_SepalLengthCm', 4.33725),\n",
       " ('q1_SepalWidthCm', 2.0745),\n",
       " ('q1_PetalLengthCm', 1.03725),\n",
       " ('q1_PetalWidthCm', 0.1)]"
      ]
     },
     "execution_count": 31,
     "metadata": {},
     "output_type": "execute_result"
    }
   ],
   "source": [
    "[(\"q1_\" + feature, np.percentile(numeric_features[feature], 0.25)) for feature in numeric_features]"
   ]
  },
  {
   "cell_type": "code",
   "execution_count": 32,
   "id": "5b4bc9c2-c742-467f-97a8-fcf61d2aac9c",
   "metadata": {},
   "outputs": [
    {
     "data": {
      "text/plain": [
       "[('q3_SepalLengthCm', 4.4),\n",
       " ('q3_SepalWidthCm', 2.2),\n",
       " ('q3_PetalLengthCm', 1.11175),\n",
       " ('q3_PetalWidthCm', 0.1)]"
      ]
     },
     "execution_count": 32,
     "metadata": {},
     "output_type": "execute_result"
    }
   ],
   "source": [
    "[(\"q3_\" + feature, np.percentile(numeric_features[feature], 0.75)) for feature in numeric_features]"
   ]
  },
  {
   "cell_type": "code",
   "execution_count": 33,
   "id": "0c07229f-4e2d-4ada-9596-fb798661a23c",
   "metadata": {},
   "outputs": [
    {
     "data": {
      "text/plain": [
       "SepalLengthCm    5.1\n",
       "SepalWidthCm     2.8\n",
       "PetalLengthCm    1.6\n",
       "PetalWidthCm     0.3\n",
       "Name: 0.25, dtype: float64"
      ]
     },
     "execution_count": 33,
     "metadata": {},
     "output_type": "execute_result"
    }
   ],
   "source": [
    "all_q1 = iris.quantile(q=0.25, numeric_only=True)\n",
    "all_q1"
   ]
  },
  {
   "cell_type": "code",
   "execution_count": 34,
   "id": "a3d07160-d7de-45c0-a218-89dc6d3b13c7",
   "metadata": {},
   "outputs": [
    {
     "data": {
      "text/plain": [
       "SepalLengthCm    6.4\n",
       "SepalWidthCm     3.3\n",
       "PetalLengthCm    5.1\n",
       "PetalWidthCm     1.8\n",
       "Name: 0.75, dtype: float64"
      ]
     },
     "execution_count": 34,
     "metadata": {},
     "output_type": "execute_result"
    }
   ],
   "source": [
    "all_q3 = iris.quantile(q=0.75, numeric_only=True)\n",
    "all_q3"
   ]
  },
  {
   "cell_type": "code",
   "execution_count": 35,
   "id": "a95c4401-a372-4bc6-bb09-929cb75b9bdc",
   "metadata": {},
   "outputs": [
    {
     "data": {
      "text/plain": [
       "SepalLengthCm    1.3\n",
       "SepalWidthCm     0.5\n",
       "PetalLengthCm    3.5\n",
       "PetalWidthCm     1.5\n",
       "dtype: float64"
      ]
     },
     "execution_count": 35,
     "metadata": {},
     "output_type": "execute_result"
    }
   ],
   "source": [
    "all_q3 - all_q1"
   ]
  },
  {
   "cell_type": "code",
   "execution_count": 36,
   "id": "0dd8e3d9-6edd-4e86-8410-b8137fc58068",
   "metadata": {},
   "outputs": [],
   "source": [
    "marks = [50, 55, 60, 65, 70, 75, 80, 85, 90, 95]"
   ]
  },
  {
   "cell_type": "code",
   "execution_count": 37,
   "id": "d529b6c7-a63c-4549-ba18-7c6a36a071b0",
   "metadata": {},
   "outputs": [
    {
     "data": {
      "text/plain": [
       "50.1125"
      ]
     },
     "execution_count": 37,
     "metadata": {},
     "output_type": "execute_result"
    }
   ],
   "source": [
    "np.percentile(marks, 0.25)"
   ]
  },
  {
   "cell_type": "code",
   "execution_count": 38,
   "id": "15e11fa0-21bf-4ebb-8d40-f21643703069",
   "metadata": {},
   "outputs": [],
   "source": [
    "q1 = 0.25 * (len(marks) + 1)"
   ]
  },
  {
   "cell_type": "code",
   "execution_count": 39,
   "id": "204afc32-ab19-4be6-8a95-0e7cd79c7745",
   "metadata": {},
   "outputs": [
    {
     "data": {
      "text/plain": [
       "2.75"
      ]
     },
     "execution_count": 39,
     "metadata": {},
     "output_type": "execute_result"
    }
   ],
   "source": [
    "q1"
   ]
  },
  {
   "cell_type": "code",
   "execution_count": 40,
   "id": "c3bc1cb5-85f1-4f42-9b72-b2d5485df6a2",
   "metadata": {},
   "outputs": [
    {
     "data": {
      "text/plain": [
       "58.75"
      ]
     },
     "execution_count": 40,
     "metadata": {},
     "output_type": "execute_result"
    }
   ],
   "source": [
    "marks[2-1] + (60 - 55) * 0.75"
   ]
  },
  {
   "cell_type": "code",
   "execution_count": 41,
   "id": "00b7462f-f87f-437f-baf5-0fda953b6038",
   "metadata": {},
   "outputs": [
    {
     "data": {
      "text/plain": [
       "0    61.25\n",
       "Name: 0.25, dtype: float64"
      ]
     },
     "execution_count": 41,
     "metadata": {},
     "output_type": "execute_result"
    }
   ],
   "source": [
    "q1 = pd.DataFrame(marks).quantile(0.25)\n",
    "q1"
   ]
  },
  {
   "cell_type": "code",
   "execution_count": 42,
   "id": "cbdda89d-4955-46fc-a604-17fe9b378bd0",
   "metadata": {},
   "outputs": [
    {
     "data": {
      "text/plain": [
       "0    72.5\n",
       "Name: 0.5, dtype: float64"
      ]
     },
     "execution_count": 42,
     "metadata": {},
     "output_type": "execute_result"
    }
   ],
   "source": [
    "pd.DataFrame(marks).quantile(0.50)"
   ]
  },
  {
   "cell_type": "code",
   "execution_count": 43,
   "id": "42c3e16b-657f-4e9f-a798-9c4cfbb7ac79",
   "metadata": {},
   "outputs": [
    {
     "data": {
      "text/plain": [
       "0    83.75\n",
       "Name: 0.75, dtype: float64"
      ]
     },
     "execution_count": 43,
     "metadata": {},
     "output_type": "execute_result"
    }
   ],
   "source": [
    "q3 = pd.DataFrame(marks).quantile(0.75)\n",
    "q3"
   ]
  },
  {
   "cell_type": "code",
   "execution_count": 44,
   "id": "2a0832ba-b430-479e-8f93-6654dcc567ca",
   "metadata": {},
   "outputs": [
    {
     "data": {
      "text/plain": [
       "0    22.5\n",
       "dtype: float64"
      ]
     },
     "execution_count": 44,
     "metadata": {},
     "output_type": "execute_result"
    }
   ],
   "source": [
    "IQR = pd.DataFrame(marks).quantile(0.75) - pd.DataFrame(marks).quantile(0.25)\n",
    "IQR"
   ]
  },
  {
   "cell_type": "code",
   "execution_count": 45,
   "id": "b1b9cf49-9d60-4e96-8352-2e5aefa0be6c",
   "metadata": {},
   "outputs": [],
   "source": [
    "IQR = q3 - q1"
   ]
  },
  {
   "cell_type": "code",
   "execution_count": 46,
   "id": "3d943a5d-b397-4162-925d-a032e9a38b4d",
   "metadata": {},
   "outputs": [
    {
     "data": {
      "text/plain": [
       "0    22.5\n",
       "dtype: float64"
      ]
     },
     "execution_count": 46,
     "metadata": {},
     "output_type": "execute_result"
    }
   ],
   "source": [
    "IQR"
   ]
  },
  {
   "cell_type": "code",
   "execution_count": 47,
   "id": "91e63d85-0325-4bce-8f6b-930c7640f3f3",
   "metadata": {},
   "outputs": [
    {
     "data": {
      "text/plain": [
       "0    27.5\n",
       "dtype: float64"
      ]
     },
     "execution_count": 47,
     "metadata": {},
     "output_type": "execute_result"
    }
   ],
   "source": [
    "#lower limit\n",
    "q1 - 1.5*IQR"
   ]
  },
  {
   "cell_type": "code",
   "execution_count": 48,
   "id": "8f0c4bbf-4bc5-48fb-b83a-826477c41d8d",
   "metadata": {},
   "outputs": [
    {
     "data": {
      "text/plain": [
       "0    117.5\n",
       "dtype: float64"
      ]
     },
     "execution_count": 48,
     "metadata": {},
     "output_type": "execute_result"
    }
   ],
   "source": [
    "q3 + 1.5*IQR"
   ]
  },
  {
   "cell_type": "markdown",
   "id": "3a1c8efa-db13-4948-8fe1-4b8955ffb84f",
   "metadata": {},
   "source": [
    "16. Are there any features with zero variance?"
   ]
  },
  {
   "cell_type": "code",
   "execution_count": 49,
   "id": "bab89e91-8a21-407f-b8fa-ee5c3cd655d4",
   "metadata": {},
   "outputs": [
    {
     "data": {
      "text/plain": [
       "SepalLengthCm    0.685694\n",
       "SepalWidthCm     0.188004\n",
       "PetalLengthCm    3.113179\n",
       "PetalWidthCm     0.582414\n",
       "dtype: float64"
      ]
     },
     "execution_count": 49,
     "metadata": {},
     "output_type": "execute_result"
    }
   ],
   "source": [
    "variance_values  = iris.var(numeric_only=True)\n",
    "variance_values"
   ]
  },
  {
   "cell_type": "code",
   "execution_count": 50,
   "id": "f551c7f2-bfa6-4ae3-9086-ca882cf742a7",
   "metadata": {},
   "outputs": [
    {
     "data": {
      "text/plain": [
       "Series([], dtype: float64)"
      ]
     },
     "execution_count": 50,
     "metadata": {},
     "output_type": "execute_result"
    }
   ],
   "source": [
    "zero_variance_features = variance_values[variance_values == 0]\n",
    "zero_variance_features"
   ]
  },
  {
   "cell_type": "code",
   "execution_count": 51,
   "id": "d2144dbc-cf57-40e1-b445-0c65e08bb62f",
   "metadata": {},
   "outputs": [
    {
     "name": "stdout",
     "output_type": "stream",
     "text": [
      "Variance of each feature:\n",
      "Sepal Length    0.073\n",
      "Sepal Width     0.047\n",
      "Petal Length    0.002\n",
      "Petal Width     0.000\n",
      "dtype: float64\n",
      "\n",
      "Features with zero variance:\n",
      "Petal Width    0.0\n",
      "dtype: float64\n"
     ]
    }
   ],
   "source": [
    "# Create a DataFrame with a zero variance feature ('Flower Color')\n",
    "data = {\n",
    "    'Sepal Length': [5.1, 4.9, 5.4, 5.6, 5.2],\n",
    "    'Sepal Width': [3.5, 3.0, 3.4, 3.2, 3.5],\n",
    "    'Petal Length': [1.4, 1.4, 1.5, 1.4, 1.4],\n",
    "    'Petal Width': [0.2, 0.2, 0.2, 0.2, 0.2],\n",
    "    'Flower Color': ['Red', 'Red', 'Red', 'Red', 'Red']\n",
    "}\n",
    "\n",
    "df = pd.DataFrame(data)\n",
    "\n",
    "# Calculate variance for each feature\n",
    "variance_values = df.var(numeric_only=True)  # Only numerical columns are considered for variance\n",
    "\n",
    "print(\"Variance of each feature:\")\n",
    "print(variance_values)\n",
    "\n",
    "# Check for zero variance features\n",
    "zero_variance_features = variance_values[variance_values == 0]\n",
    "print(\"\\nFeatures with zero variance:\")\n",
    "print(zero_variance_features)"
   ]
  },
  {
   "cell_type": "markdown",
   "id": "9007d0ee-c463-4dcc-9629-c1cae2005f75",
   "metadata": {},
   "source": [
    "17. What is the skewness of each feature?"
   ]
  },
  {
   "cell_type": "code",
   "execution_count": 52,
   "id": "9e20d916-267b-412c-bc26-c99f52a7ec4c",
   "metadata": {},
   "outputs": [
    {
     "data": {
      "text/plain": [
       "SepalLengthCm    0.314911\n",
       "SepalWidthCm     0.334053\n",
       "PetalLengthCm   -0.274464\n",
       "PetalWidthCm    -0.104997\n",
       "dtype: float64"
      ]
     },
     "execution_count": 52,
     "metadata": {},
     "output_type": "execute_result"
    }
   ],
   "source": [
    "iris.skew(numeric_only=True)"
   ]
  },
  {
   "cell_type": "code",
   "execution_count": 53,
   "id": "4a58fc32-a9d7-4ef6-aa11-31e7b8f4c6eb",
   "metadata": {},
   "outputs": [],
   "source": [
    "import seaborn as sns"
   ]
  },
  {
   "cell_type": "code",
   "execution_count": 54,
   "id": "2cd56c8c-7ff8-425e-ba3b-ed1d5a32056e",
   "metadata": {},
   "outputs": [
    {
     "data": {
      "image/png": "[encoded data removed]",
      "text/plain": [
       "<Figure size 640x480 with 1 Axes>"
      ]
     },
     "metadata": {},
     "output_type": "display_data"
    },
    {
     "data": {
      "image/png": "[encoded data removed]",
      "text/plain": [
       "<Figure size 640x480 with 1 Axes>"
      ]
     },
     "metadata": {},
     "output_type": "display_data"
    },
    {
     "data": {
      "image/png": "[encoded data removed]",
      "text/plain": [
       "<Figure size 640x480 with 1 Axes>"
      ]
     },
     "metadata": {},
     "output_type": "display_data"
    },
    {
     "data": {
      "image/png": "[encoded data removed]",
      "text/plain": [
       "<Figure size 640x480 with 1 Axes>"
      ]
     },
     "metadata": {},
     "output_type": "display_data"
    }
   ],
   "source": [
    "for feature in numeric_features:\n",
    "    sns.histplot(data=iris, x=feature, bins=20, kde=True)\n",
    "    plt.show()"
   ]
  },
  {
   "cell_type": "markdown",
   "id": "7141643c-3641-4da2-a07e-9955b7e40a56",
   "metadata": {},
   "source": [
    "18. What is the kurtosis of each feature?"
   ]
  },
  {
   "cell_type": "code",
   "execution_count": 55,
   "id": "1d2921c6-de95-45d9-8231-d2cf7f4f1107",
   "metadata": {},
   "outputs": [
    {
     "data": {
      "text/plain": [
       "SepalLengthCm   -0.552064\n",
       "SepalWidthCm     0.290781\n",
       "PetalLengthCm   -1.401921\n",
       "PetalWidthCm    -1.339754\n",
       "dtype: float64"
      ]
     },
     "execution_count": 55,
     "metadata": {},
     "output_type": "execute_result"
    }
   ],
   "source": [
    "iris.kurt(numeric_only=True)"
   ]
  },
  {
   "cell_type": "markdown",
   "id": "f4e50840-2fb0-447f-af51-a406ed2ce214",
   "metadata": {},
   "source": [
    "19. Which feature has the most outliers?"
   ]
  },
  {
   "cell_type": "code",
   "execution_count": 56,
   "id": "841e6815-cc65-4035-b098-6d2887c06bdf",
   "metadata": {},
   "outputs": [
    {
     "data": {
      "text/plain": [
       "SepalLengthCm    5.1\n",
       "SepalWidthCm     2.8\n",
       "PetalLengthCm    1.6\n",
       "PetalWidthCm     0.3\n",
       "Name: 0.25, dtype: float64"
      ]
     },
     "execution_count": 56,
     "metadata": {},
     "output_type": "execute_result"
    }
   ],
   "source": [
    "q1 = iris.quantile(q=0.25, numeric_only=True)\n",
    "q1"
   ]
  },
  {
   "cell_type": "code",
   "execution_count": 57,
   "id": "20dfae15-86d9-4717-9b0c-4e757bb98870",
   "metadata": {},
   "outputs": [
    {
     "data": {
      "text/plain": [
       "SepalLengthCm    6.4\n",
       "SepalWidthCm     3.3\n",
       "PetalLengthCm    5.1\n",
       "PetalWidthCm     1.8\n",
       "Name: 0.75, dtype: float64"
      ]
     },
     "execution_count": 57,
     "metadata": {},
     "output_type": "execute_result"
    }
   ],
   "source": [
    "q3 = iris.quantile(q=0.75, numeric_only=True)\n",
    "q3"
   ]
  },
  {
   "cell_type": "code",
   "execution_count": 58,
   "id": "5f5cb6be-bb89-414b-a116-4e25f035ffec",
   "metadata": {},
   "outputs": [
    {
     "data": {
      "text/plain": [
       "SepalLengthCm    1.3\n",
       "SepalWidthCm     0.5\n",
       "PetalLengthCm    3.5\n",
       "PetalWidthCm     1.5\n",
       "dtype: float64"
      ]
     },
     "execution_count": 58,
     "metadata": {},
     "output_type": "execute_result"
    }
   ],
   "source": [
    "iqr = q3 - q1\n",
    "iqr"
   ]
  },
  {
   "cell_type": "code",
   "execution_count": 59,
   "id": "d6f01907-8287-408f-b69c-a04a12ae7163",
   "metadata": {},
   "outputs": [
    {
     "data": {
      "text/plain": [
       "SepalLengthCm    3.15\n",
       "SepalWidthCm     2.05\n",
       "PetalLengthCm   -3.65\n",
       "PetalWidthCm    -1.95\n",
       "dtype: float64"
      ]
     },
     "execution_count": 59,
     "metadata": {},
     "output_type": "execute_result"
    }
   ],
   "source": [
    "lower_limit = q1 - 1.5*iqr\n",
    "lower_limit"
   ]
  },
  {
   "cell_type": "code",
   "execution_count": 60,
   "id": "bfed6a2d-3d7d-4167-8988-165f01b80010",
   "metadata": {},
   "outputs": [
    {
     "data": {
      "text/plain": [
       "SepalLengthCm     8.35\n",
       "SepalWidthCm      4.05\n",
       "PetalLengthCm    10.35\n",
       "PetalWidthCm      4.05\n",
       "dtype: float64"
      ]
     },
     "execution_count": 60,
     "metadata": {},
     "output_type": "execute_result"
    }
   ],
   "source": [
    "upper_limit = q3 + 1.5*iqr\n",
    "upper_limit"
   ]
  },
  {
   "cell_type": "code",
   "execution_count": 68,
   "id": "4214dcc9-e979-4a6b-98e5-5ed93f0ece83",
   "metadata": {},
   "outputs": [
    {
     "data": {
      "image/png": "[encoded data removed]",
      "text/plain": [
       "<Figure size 640x480 with 1 Axes>"
      ]
     },
     "metadata": {},
     "output_type": "display_data"
    }
   ],
   "source": [
    "for feature in numeric_features:\n",
    "    sns.boxplot(data=numeric_features)"
   ]
  },
  {
   "cell_type": "code",
   "execution_count": 79,
   "id": "cbd66231-910a-4eb7-b294-c5560a00451b",
   "metadata": {},
   "outputs": [
    {
     "data": {
      "text/html": [
       "<div>\n",
       "<style scoped>\n",
       "    .dataframe tbody tr th:only-of-type {\n",
       "        vertical-align: middle;\n",
       "    }\n",
       "\n",
       "    .dataframe tbody tr th {\n",
       "        vertical-align: top;\n",
       "    }\n",
       "\n",
       "    .dataframe thead th {\n",
       "        text-align: right;\n",
       "    }\n",
       "</style>\n",
       "<table border=\"1\" class=\"dataframe\">\n",
       "  <thead>\n",
       "    <tr style=\"text-align: right;\">\n",
       "      <th></th>\n",
       "      <th>SepalLengthCm</th>\n",
       "      <th>SepalWidthCm</th>\n",
       "      <th>PetalLengthCm</th>\n",
       "      <th>PetalWidthCm</th>\n",
       "      <th>Species</th>\n",
       "    </tr>\n",
       "  </thead>\n",
       "  <tbody>\n",
       "    <tr>\n",
       "      <th>60</th>\n",
       "      <td>5.0</td>\n",
       "      <td>2.0</td>\n",
       "      <td>3.5</td>\n",
       "      <td>1.0</td>\n",
       "      <td>Iris-versicolor</td>\n",
       "    </tr>\n",
       "  </tbody>\n",
       "</table>\n",
       "</div>"
      ],
      "text/plain": [
       "    SepalLengthCm  SepalWidthCm  PetalLengthCm  PetalWidthCm          Species\n",
       "60            5.0           2.0            3.5           1.0  Iris-versicolor"
      ]
     },
     "execution_count": 79,
     "metadata": {},
     "output_type": "execute_result"
    }
   ],
   "source": [
    "iris[iris[\"SepalWidthCm\"] < lower_limit.iloc[1]]"
   ]
  },
  {
   "cell_type": "code",
   "execution_count": 80,
   "id": "af60d11f-2ea7-43d4-a51f-782b0af5bb12",
   "metadata": {},
   "outputs": [
    {
     "data": {
      "text/html": [
       "<div>\n",
       "<style scoped>\n",
       "    .dataframe tbody tr th:only-of-type {\n",
       "        vertical-align: middle;\n",
       "    }\n",
       "\n",
       "    .dataframe tbody tr th {\n",
       "        vertical-align: top;\n",
       "    }\n",
       "\n",
       "    .dataframe thead th {\n",
       "        text-align: right;\n",
       "    }\n",
       "</style>\n",
       "<table border=\"1\" class=\"dataframe\">\n",
       "  <thead>\n",
       "    <tr style=\"text-align: right;\">\n",
       "      <th></th>\n",
       "      <th>SepalLengthCm</th>\n",
       "      <th>SepalWidthCm</th>\n",
       "      <th>PetalLengthCm</th>\n",
       "      <th>PetalWidthCm</th>\n",
       "      <th>Species</th>\n",
       "    </tr>\n",
       "  </thead>\n",
       "  <tbody>\n",
       "    <tr>\n",
       "      <th>15</th>\n",
       "      <td>5.7</td>\n",
       "      <td>4.4</td>\n",
       "      <td>1.5</td>\n",
       "      <td>0.4</td>\n",
       "      <td>Iris-setosa</td>\n",
       "    </tr>\n",
       "    <tr>\n",
       "      <th>32</th>\n",
       "      <td>5.2</td>\n",
       "      <td>4.1</td>\n",
       "      <td>1.5</td>\n",
       "      <td>0.1</td>\n",
       "      <td>Iris-setosa</td>\n",
       "    </tr>\n",
       "    <tr>\n",
       "      <th>33</th>\n",
       "      <td>5.5</td>\n",
       "      <td>4.2</td>\n",
       "      <td>1.4</td>\n",
       "      <td>0.2</td>\n",
       "      <td>Iris-setosa</td>\n",
       "    </tr>\n",
       "  </tbody>\n",
       "</table>\n",
       "</div>"
      ],
      "text/plain": [
       "    SepalLengthCm  SepalWidthCm  PetalLengthCm  PetalWidthCm      Species\n",
       "15            5.7           4.4            1.5           0.4  Iris-setosa\n",
       "32            5.2           4.1            1.5           0.1  Iris-setosa\n",
       "33            5.5           4.2            1.4           0.2  Iris-setosa"
      ]
     },
     "execution_count": 80,
     "metadata": {},
     "output_type": "execute_result"
    }
   ],
   "source": [
    "iris[iris[\"SepalWidthCm\"] > upper_limit.iloc[1]]"
   ]
  },
  {
   "cell_type": "code",
   "execution_count": 75,
   "id": "38b80be7-06e1-4d0c-abe9-11d9299b90cb",
   "metadata": {},
   "outputs": [
    {
     "data": {
      "text/plain": [
       "2.05"
      ]
     },
     "execution_count": 75,
     "metadata": {},
     "output_type": "execute_result"
    }
   ],
   "source": [
    "lower_limit.iloc[1]"
   ]
  },
  {
   "cell_type": "code",
   "execution_count": 76,
   "id": "9eb1cd97-2ff0-4e4c-b340-b10201bfc7e9",
   "metadata": {},
   "outputs": [
    {
     "data": {
      "text/plain": [
       "SepalLengthCm    3.15\n",
       "SepalWidthCm     2.05\n",
       "PetalLengthCm   -3.65\n",
       "PetalWidthCm    -1.95\n",
       "dtype: float64"
      ]
     },
     "execution_count": 76,
     "metadata": {},
     "output_type": "execute_result"
    }
   ],
   "source": [
    "lower_limit"
   ]
  },
  {
   "cell_type": "code",
   "execution_count": 86,
   "id": "597a3cc0-bed0-4d21-a521-389fc30b1e98",
   "metadata": {},
   "outputs": [
    {
     "data": {
      "text/html": [
       "<div>\n",
       "<style scoped>\n",
       "    .dataframe tbody tr th:only-of-type {\n",
       "        vertical-align: middle;\n",
       "    }\n",
       "\n",
       "    .dataframe tbody tr th {\n",
       "        vertical-align: top;\n",
       "    }\n",
       "\n",
       "    .dataframe thead th {\n",
       "        text-align: right;\n",
       "    }\n",
       "</style>\n",
       "<table border=\"1\" class=\"dataframe\">\n",
       "  <thead>\n",
       "    <tr style=\"text-align: right;\">\n",
       "      <th></th>\n",
       "      <th>SepalLengthCm</th>\n",
       "      <th>SepalWidthCm</th>\n",
       "      <th>PetalLengthCm</th>\n",
       "      <th>PetalWidthCm</th>\n",
       "      <th>Species</th>\n",
       "    </tr>\n",
       "  </thead>\n",
       "  <tbody>\n",
       "    <tr>\n",
       "      <th>15</th>\n",
       "      <td>5.7</td>\n",
       "      <td>4.4</td>\n",
       "      <td>1.5</td>\n",
       "      <td>0.4</td>\n",
       "      <td>Iris-setosa</td>\n",
       "    </tr>\n",
       "    <tr>\n",
       "      <th>32</th>\n",
       "      <td>5.2</td>\n",
       "      <td>4.1</td>\n",
       "      <td>1.5</td>\n",
       "      <td>0.1</td>\n",
       "      <td>Iris-setosa</td>\n",
       "    </tr>\n",
       "    <tr>\n",
       "      <th>33</th>\n",
       "      <td>5.5</td>\n",
       "      <td>4.2</td>\n",
       "      <td>1.4</td>\n",
       "      <td>0.2</td>\n",
       "      <td>Iris-setosa</td>\n",
       "    </tr>\n",
       "    <tr>\n",
       "      <th>60</th>\n",
       "      <td>5.0</td>\n",
       "      <td>2.0</td>\n",
       "      <td>3.5</td>\n",
       "      <td>1.0</td>\n",
       "      <td>Iris-versicolor</td>\n",
       "    </tr>\n",
       "  </tbody>\n",
       "</table>\n",
       "</div>"
      ],
      "text/plain": [
       "    SepalLengthCm  SepalWidthCm  PetalLengthCm  PetalWidthCm          Species\n",
       "15            5.7           4.4            1.5           0.4      Iris-setosa\n",
       "32            5.2           4.1            1.5           0.1      Iris-setosa\n",
       "33            5.5           4.2            1.4           0.2      Iris-setosa\n",
       "60            5.0           2.0            3.5           1.0  Iris-versicolor"
      ]
     },
     "execution_count": 86,
     "metadata": {},
     "output_type": "execute_result"
    }
   ],
   "source": [
    "iris[(iris[\"SepalWidthCm\"] < lower_limit.iloc[1]) |  (iris[\"SepalWidthCm\"] > upper_limit.iloc[1])]"
   ]
  },
  {
   "cell_type": "code",
   "execution_count": 84,
   "id": "c75c4219-6b5f-4c1a-9f21-e4aea9d0e0e1",
   "metadata": {},
   "outputs": [
    {
     "data": {
      "text/html": [
       "<div>\n",
       "<style scoped>\n",
       "    .dataframe tbody tr th:only-of-type {\n",
       "        vertical-align: middle;\n",
       "    }\n",
       "\n",
       "    .dataframe tbody tr th {\n",
       "        vertical-align: top;\n",
       "    }\n",
       "\n",
       "    .dataframe thead th {\n",
       "        text-align: right;\n",
       "    }\n",
       "</style>\n",
       "<table border=\"1\" class=\"dataframe\">\n",
       "  <thead>\n",
       "    <tr style=\"text-align: right;\">\n",
       "      <th></th>\n",
       "      <th>SepalLengthCm</th>\n",
       "      <th>SepalWidthCm</th>\n",
       "      <th>PetalLengthCm</th>\n",
       "      <th>PetalWidthCm</th>\n",
       "      <th>Species</th>\n",
       "    </tr>\n",
       "  </thead>\n",
       "  <tbody>\n",
       "    <tr>\n",
       "      <th>0</th>\n",
       "      <td>5.1</td>\n",
       "      <td>3.5</td>\n",
       "      <td>1.4</td>\n",
       "      <td>0.2</td>\n",
       "      <td>Iris-setosa</td>\n",
       "    </tr>\n",
       "    <tr>\n",
       "      <th>1</th>\n",
       "      <td>4.9</td>\n",
       "      <td>3.0</td>\n",
       "      <td>1.4</td>\n",
       "      <td>0.2</td>\n",
       "      <td>Iris-setosa</td>\n",
       "    </tr>\n",
       "    <tr>\n",
       "      <th>2</th>\n",
       "      <td>4.7</td>\n",
       "      <td>3.2</td>\n",
       "      <td>1.3</td>\n",
       "      <td>0.2</td>\n",
       "      <td>Iris-setosa</td>\n",
       "    </tr>\n",
       "    <tr>\n",
       "      <th>3</th>\n",
       "      <td>4.6</td>\n",
       "      <td>3.1</td>\n",
       "      <td>1.5</td>\n",
       "      <td>0.2</td>\n",
       "      <td>Iris-setosa</td>\n",
       "    </tr>\n",
       "    <tr>\n",
       "      <th>4</th>\n",
       "      <td>5.0</td>\n",
       "      <td>3.6</td>\n",
       "      <td>1.4</td>\n",
       "      <td>0.2</td>\n",
       "      <td>Iris-setosa</td>\n",
       "    </tr>\n",
       "    <tr>\n",
       "      <th>...</th>\n",
       "      <td>...</td>\n",
       "      <td>...</td>\n",
       "      <td>...</td>\n",
       "      <td>...</td>\n",
       "      <td>...</td>\n",
       "    </tr>\n",
       "    <tr>\n",
       "      <th>145</th>\n",
       "      <td>6.7</td>\n",
       "      <td>3.0</td>\n",
       "      <td>5.2</td>\n",
       "      <td>2.3</td>\n",
       "      <td>Iris-virginica</td>\n",
       "    </tr>\n",
       "    <tr>\n",
       "      <th>146</th>\n",
       "      <td>6.3</td>\n",
       "      <td>2.5</td>\n",
       "      <td>5.0</td>\n",
       "      <td>1.9</td>\n",
       "      <td>Iris-virginica</td>\n",
       "    </tr>\n",
       "    <tr>\n",
       "      <th>147</th>\n",
       "      <td>6.5</td>\n",
       "      <td>3.0</td>\n",
       "      <td>5.2</td>\n",
       "      <td>2.0</td>\n",
       "      <td>Iris-virginica</td>\n",
       "    </tr>\n",
       "    <tr>\n",
       "      <th>148</th>\n",
       "      <td>6.2</td>\n",
       "      <td>3.4</td>\n",
       "      <td>5.4</td>\n",
       "      <td>2.3</td>\n",
       "      <td>Iris-virginica</td>\n",
       "    </tr>\n",
       "    <tr>\n",
       "      <th>149</th>\n",
       "      <td>5.9</td>\n",
       "      <td>3.0</td>\n",
       "      <td>5.1</td>\n",
       "      <td>1.8</td>\n",
       "      <td>Iris-virginica</td>\n",
       "    </tr>\n",
       "  </tbody>\n",
       "</table>\n",
       "<p>146 rows × 5 columns</p>\n",
       "</div>"
      ],
      "text/plain": [
       "     SepalLengthCm  SepalWidthCm  PetalLengthCm  PetalWidthCm         Species\n",
       "0              5.1           3.5            1.4           0.2     Iris-setosa\n",
       "1              4.9           3.0            1.4           0.2     Iris-setosa\n",
       "2              4.7           3.2            1.3           0.2     Iris-setosa\n",
       "3              4.6           3.1            1.5           0.2     Iris-setosa\n",
       "4              5.0           3.6            1.4           0.2     Iris-setosa\n",
       "..             ...           ...            ...           ...             ...\n",
       "145            6.7           3.0            5.2           2.3  Iris-virginica\n",
       "146            6.3           2.5            5.0           1.9  Iris-virginica\n",
       "147            6.5           3.0            5.2           2.0  Iris-virginica\n",
       "148            6.2           3.4            5.4           2.3  Iris-virginica\n",
       "149            5.9           3.0            5.1           1.8  Iris-virginica\n",
       "\n",
       "[146 rows x 5 columns]"
      ]
     },
     "execution_count": 84,
     "metadata": {},
     "output_type": "execute_result"
    }
   ],
   "source": [
    "iris[(iris[\"SepalWidthCm\"] > lower_limit.iloc[1]) &  (iris[\"SepalWidthCm\"] < upper_limit.iloc[1])]"
   ]
  },
  {
   "cell_type": "code",
   "execution_count": 87,
   "id": "59f40129-660e-46ce-bf3b-6ef5d82b678b",
   "metadata": {},
   "outputs": [
    {
     "data": {
      "text/html": [
       "<div>\n",
       "<style scoped>\n",
       "    .dataframe tbody tr th:only-of-type {\n",
       "        vertical-align: middle;\n",
       "    }\n",
       "\n",
       "    .dataframe tbody tr th {\n",
       "        vertical-align: top;\n",
       "    }\n",
       "\n",
       "    .dataframe thead th {\n",
       "        text-align: right;\n",
       "    }\n",
       "</style>\n",
       "<table border=\"1\" class=\"dataframe\">\n",
       "  <thead>\n",
       "    <tr style=\"text-align: right;\">\n",
       "      <th></th>\n",
       "      <th>SepalLengthCm</th>\n",
       "      <th>SepalWidthCm</th>\n",
       "      <th>PetalLengthCm</th>\n",
       "      <th>PetalWidthCm</th>\n",
       "      <th>Species</th>\n",
       "    </tr>\n",
       "  </thead>\n",
       "  <tbody>\n",
       "    <tr>\n",
       "      <th>0</th>\n",
       "      <td>5.1</td>\n",
       "      <td>3.5</td>\n",
       "      <td>1.4</td>\n",
       "      <td>0.2</td>\n",
       "      <td>Iris-setosa</td>\n",
       "    </tr>\n",
       "    <tr>\n",
       "      <th>1</th>\n",
       "      <td>4.9</td>\n",
       "      <td>3.0</td>\n",
       "      <td>1.4</td>\n",
       "      <td>0.2</td>\n",
       "      <td>Iris-setosa</td>\n",
       "    </tr>\n",
       "    <tr>\n",
       "      <th>2</th>\n",
       "      <td>4.7</td>\n",
       "      <td>3.2</td>\n",
       "      <td>1.3</td>\n",
       "      <td>0.2</td>\n",
       "      <td>Iris-setosa</td>\n",
       "    </tr>\n",
       "    <tr>\n",
       "      <th>3</th>\n",
       "      <td>4.6</td>\n",
       "      <td>3.1</td>\n",
       "      <td>1.5</td>\n",
       "      <td>0.2</td>\n",
       "      <td>Iris-setosa</td>\n",
       "    </tr>\n",
       "    <tr>\n",
       "      <th>4</th>\n",
       "      <td>5.0</td>\n",
       "      <td>3.6</td>\n",
       "      <td>1.4</td>\n",
       "      <td>0.2</td>\n",
       "      <td>Iris-setosa</td>\n",
       "    </tr>\n",
       "    <tr>\n",
       "      <th>...</th>\n",
       "      <td>...</td>\n",
       "      <td>...</td>\n",
       "      <td>...</td>\n",
       "      <td>...</td>\n",
       "      <td>...</td>\n",
       "    </tr>\n",
       "    <tr>\n",
       "      <th>145</th>\n",
       "      <td>6.7</td>\n",
       "      <td>3.0</td>\n",
       "      <td>5.2</td>\n",
       "      <td>2.3</td>\n",
       "      <td>Iris-virginica</td>\n",
       "    </tr>\n",
       "    <tr>\n",
       "      <th>146</th>\n",
       "      <td>6.3</td>\n",
       "      <td>2.5</td>\n",
       "      <td>5.0</td>\n",
       "      <td>1.9</td>\n",
       "      <td>Iris-virginica</td>\n",
       "    </tr>\n",
       "    <tr>\n",
       "      <th>147</th>\n",
       "      <td>6.5</td>\n",
       "      <td>3.0</td>\n",
       "      <td>5.2</td>\n",
       "      <td>2.0</td>\n",
       "      <td>Iris-virginica</td>\n",
       "    </tr>\n",
       "    <tr>\n",
       "      <th>148</th>\n",
       "      <td>6.2</td>\n",
       "      <td>3.4</td>\n",
       "      <td>5.4</td>\n",
       "      <td>2.3</td>\n",
       "      <td>Iris-virginica</td>\n",
       "    </tr>\n",
       "    <tr>\n",
       "      <th>149</th>\n",
       "      <td>5.9</td>\n",
       "      <td>3.0</td>\n",
       "      <td>5.1</td>\n",
       "      <td>1.8</td>\n",
       "      <td>Iris-virginica</td>\n",
       "    </tr>\n",
       "  </tbody>\n",
       "</table>\n",
       "<p>146 rows × 5 columns</p>\n",
       "</div>"
      ],
      "text/plain": [
       "     SepalLengthCm  SepalWidthCm  PetalLengthCm  PetalWidthCm         Species\n",
       "0              5.1           3.5            1.4           0.2     Iris-setosa\n",
       "1              4.9           3.0            1.4           0.2     Iris-setosa\n",
       "2              4.7           3.2            1.3           0.2     Iris-setosa\n",
       "3              4.6           3.1            1.5           0.2     Iris-setosa\n",
       "4              5.0           3.6            1.4           0.2     Iris-setosa\n",
       "..             ...           ...            ...           ...             ...\n",
       "145            6.7           3.0            5.2           2.3  Iris-virginica\n",
       "146            6.3           2.5            5.0           1.9  Iris-virginica\n",
       "147            6.5           3.0            5.2           2.0  Iris-virginica\n",
       "148            6.2           3.4            5.4           2.3  Iris-virginica\n",
       "149            5.9           3.0            5.1           1.8  Iris-virginica\n",
       "\n",
       "[146 rows x 5 columns]"
      ]
     },
     "execution_count": 87,
     "metadata": {},
     "output_type": "execute_result"
    }
   ],
   "source": [
    "no_outliers = iris[(iris[\"SepalWidthCm\"] > lower_limit.iloc[1]) &  (iris[\"SepalWidthCm\"] < upper_limit.iloc[1])]\n",
    "no_outliers"
   ]
  },
  {
   "cell_type": "markdown",
   "id": "74f6b4ea-c2b3-4041-82be-d2900e6ab13f",
   "metadata": {},
   "source": [
    "20. What percentage of the dataset belongs to each species?"
   ]
  },
  {
   "cell_type": "code",
   "execution_count": 88,
   "id": "00882ca7-82a2-4bdd-b930-05e3f4c649cb",
   "metadata": {},
   "outputs": [
    {
     "data": {
      "text/html": [
       "<div>\n",
       "<style scoped>\n",
       "    .dataframe tbody tr th:only-of-type {\n",
       "        vertical-align: middle;\n",
       "    }\n",
       "\n",
       "    .dataframe tbody tr th {\n",
       "        vertical-align: top;\n",
       "    }\n",
       "\n",
       "    .dataframe thead th {\n",
       "        text-align: right;\n",
       "    }\n",
       "</style>\n",
       "<table border=\"1\" class=\"dataframe\">\n",
       "  <thead>\n",
       "    <tr style=\"text-align: right;\">\n",
       "      <th></th>\n",
       "      <th>SepalLengthCm</th>\n",
       "      <th>SepalWidthCm</th>\n",
       "      <th>PetalLengthCm</th>\n",
       "      <th>PetalWidthCm</th>\n",
       "      <th>Species</th>\n",
       "    </tr>\n",
       "  </thead>\n",
       "  <tbody>\n",
       "    <tr>\n",
       "      <th>0</th>\n",
       "      <td>5.1</td>\n",
       "      <td>3.5</td>\n",
       "      <td>1.4</td>\n",
       "      <td>0.2</td>\n",
       "      <td>Iris-setosa</td>\n",
       "    </tr>\n",
       "    <tr>\n",
       "      <th>1</th>\n",
       "      <td>4.9</td>\n",
       "      <td>3.0</td>\n",
       "      <td>1.4</td>\n",
       "      <td>0.2</td>\n",
       "      <td>Iris-setosa</td>\n",
       "    </tr>\n",
       "    <tr>\n",
       "      <th>2</th>\n",
       "      <td>4.7</td>\n",
       "      <td>3.2</td>\n",
       "      <td>1.3</td>\n",
       "      <td>0.2</td>\n",
       "      <td>Iris-setosa</td>\n",
       "    </tr>\n",
       "    <tr>\n",
       "      <th>3</th>\n",
       "      <td>4.6</td>\n",
       "      <td>3.1</td>\n",
       "      <td>1.5</td>\n",
       "      <td>0.2</td>\n",
       "      <td>Iris-setosa</td>\n",
       "    </tr>\n",
       "    <tr>\n",
       "      <th>4</th>\n",
       "      <td>5.0</td>\n",
       "      <td>3.6</td>\n",
       "      <td>1.4</td>\n",
       "      <td>0.2</td>\n",
       "      <td>Iris-setosa</td>\n",
       "    </tr>\n",
       "    <tr>\n",
       "      <th>...</th>\n",
       "      <td>...</td>\n",
       "      <td>...</td>\n",
       "      <td>...</td>\n",
       "      <td>...</td>\n",
       "      <td>...</td>\n",
       "    </tr>\n",
       "    <tr>\n",
       "      <th>145</th>\n",
       "      <td>6.7</td>\n",
       "      <td>3.0</td>\n",
       "      <td>5.2</td>\n",
       "      <td>2.3</td>\n",
       "      <td>Iris-virginica</td>\n",
       "    </tr>\n",
       "    <tr>\n",
       "      <th>146</th>\n",
       "      <td>6.3</td>\n",
       "      <td>2.5</td>\n",
       "      <td>5.0</td>\n",
       "      <td>1.9</td>\n",
       "      <td>Iris-virginica</td>\n",
       "    </tr>\n",
       "    <tr>\n",
       "      <th>147</th>\n",
       "      <td>6.5</td>\n",
       "      <td>3.0</td>\n",
       "      <td>5.2</td>\n",
       "      <td>2.0</td>\n",
       "      <td>Iris-virginica</td>\n",
       "    </tr>\n",
       "    <tr>\n",
       "      <th>148</th>\n",
       "      <td>6.2</td>\n",
       "      <td>3.4</td>\n",
       "      <td>5.4</td>\n",
       "      <td>2.3</td>\n",
       "      <td>Iris-virginica</td>\n",
       "    </tr>\n",
       "    <tr>\n",
       "      <th>149</th>\n",
       "      <td>5.9</td>\n",
       "      <td>3.0</td>\n",
       "      <td>5.1</td>\n",
       "      <td>1.8</td>\n",
       "      <td>Iris-virginica</td>\n",
       "    </tr>\n",
       "  </tbody>\n",
       "</table>\n",
       "<p>146 rows × 5 columns</p>\n",
       "</div>"
      ],
      "text/plain": [
       "     SepalLengthCm  SepalWidthCm  PetalLengthCm  PetalWidthCm         Species\n",
       "0              5.1           3.5            1.4           0.2     Iris-setosa\n",
       "1              4.9           3.0            1.4           0.2     Iris-setosa\n",
       "2              4.7           3.2            1.3           0.2     Iris-setosa\n",
       "3              4.6           3.1            1.5           0.2     Iris-setosa\n",
       "4              5.0           3.6            1.4           0.2     Iris-setosa\n",
       "..             ...           ...            ...           ...             ...\n",
       "145            6.7           3.0            5.2           2.3  Iris-virginica\n",
       "146            6.3           2.5            5.0           1.9  Iris-virginica\n",
       "147            6.5           3.0            5.2           2.0  Iris-virginica\n",
       "148            6.2           3.4            5.4           2.3  Iris-virginica\n",
       "149            5.9           3.0            5.1           1.8  Iris-virginica\n",
       "\n",
       "[146 rows x 5 columns]"
      ]
     },
     "execution_count": 88,
     "metadata": {},
     "output_type": "execute_result"
    }
   ],
   "source": [
    "iris_copy = no_outliers.copy()\n",
    "iris_copy"
   ]
  },
  {
   "cell_type": "code",
   "execution_count": 99,
   "id": "33d47433-158d-490a-9200-642997a5d79e",
   "metadata": {},
   "outputs": [],
   "source": [
    "species_per = iris_copy[\"Species\"].value_counts()"
   ]
  },
  {
   "cell_type": "code",
   "execution_count": 104,
   "id": "c897c7cd-def8-41b8-b1ff-162197514956",
   "metadata": {},
   "outputs": [
    {
     "data": {
      "text/html": [
       "<div>\n",
       "<style scoped>\n",
       "    .dataframe tbody tr th:only-of-type {\n",
       "        vertical-align: middle;\n",
       "    }\n",
       "\n",
       "    .dataframe tbody tr th {\n",
       "        vertical-align: top;\n",
       "    }\n",
       "\n",
       "    .dataframe thead th {\n",
       "        text-align: right;\n",
       "    }\n",
       "</style>\n",
       "<table border=\"1\" class=\"dataframe\">\n",
       "  <thead>\n",
       "    <tr style=\"text-align: right;\">\n",
       "      <th></th>\n",
       "      <th>level_0</th>\n",
       "      <th>index</th>\n",
       "      <th>Species</th>\n",
       "      <th>count</th>\n",
       "    </tr>\n",
       "  </thead>\n",
       "  <tbody>\n",
       "    <tr>\n",
       "      <th>0</th>\n",
       "      <td>0</td>\n",
       "      <td>0</td>\n",
       "      <td>Iris-virginica</td>\n",
       "      <td>50</td>\n",
       "    </tr>\n",
       "    <tr>\n",
       "      <th>1</th>\n",
       "      <td>1</td>\n",
       "      <td>1</td>\n",
       "      <td>Iris-versicolor</td>\n",
       "      <td>49</td>\n",
       "    </tr>\n",
       "    <tr>\n",
       "      <th>2</th>\n",
       "      <td>2</td>\n",
       "      <td>2</td>\n",
       "      <td>Iris-setosa</td>\n",
       "      <td>47</td>\n",
       "    </tr>\n",
       "  </tbody>\n",
       "</table>\n",
       "</div>"
      ],
      "text/plain": [
       "   level_0  index          Species  count\n",
       "0        0      0   Iris-virginica     50\n",
       "1        1      1  Iris-versicolor     49\n",
       "2        2      2      Iris-setosa     47"
      ]
     },
     "execution_count": 104,
     "metadata": {},
     "output_type": "execute_result"
    }
   ],
   "source": [
    "species_per = species_per.reset_index()\n",
    "species_per"
   ]
  },
  {
   "cell_type": "code",
   "execution_count": 107,
   "id": "fafa9679-b456-4bd4-bc6a-b15bc077df6f",
   "metadata": {},
   "outputs": [
    {
     "data": {
      "text/html": [
       "<div>\n",
       "<style scoped>\n",
       "    .dataframe tbody tr th:only-of-type {\n",
       "        vertical-align: middle;\n",
       "    }\n",
       "\n",
       "    .dataframe tbody tr th {\n",
       "        vertical-align: top;\n",
       "    }\n",
       "\n",
       "    .dataframe thead th {\n",
       "        text-align: right;\n",
       "    }\n",
       "</style>\n",
       "<table border=\"1\" class=\"dataframe\">\n",
       "  <thead>\n",
       "    <tr style=\"text-align: right;\">\n",
       "      <th></th>\n",
       "      <th>level_0</th>\n",
       "      <th>index</th>\n",
       "      <th>Species</th>\n",
       "      <th>count</th>\n",
       "      <th>species_per</th>\n",
       "    </tr>\n",
       "  </thead>\n",
       "  <tbody>\n",
       "    <tr>\n",
       "      <th>0</th>\n",
       "      <td>0</td>\n",
       "      <td>0</td>\n",
       "      <td>Iris-virginica</td>\n",
       "      <td>50</td>\n",
       "      <td>34.246575</td>\n",
       "    </tr>\n",
       "    <tr>\n",
       "      <th>1</th>\n",
       "      <td>1</td>\n",
       "      <td>1</td>\n",
       "      <td>Iris-versicolor</td>\n",
       "      <td>49</td>\n",
       "      <td>33.561644</td>\n",
       "    </tr>\n",
       "    <tr>\n",
       "      <th>2</th>\n",
       "      <td>2</td>\n",
       "      <td>2</td>\n",
       "      <td>Iris-setosa</td>\n",
       "      <td>47</td>\n",
       "      <td>32.191781</td>\n",
       "    </tr>\n",
       "  </tbody>\n",
       "</table>\n",
       "</div>"
      ],
      "text/plain": [
       "   level_0  index          Species  count  species_per\n",
       "0        0      0   Iris-virginica     50    34.246575\n",
       "1        1      1  Iris-versicolor     49    33.561644\n",
       "2        2      2      Iris-setosa     47    32.191781"
      ]
     },
     "execution_count": 107,
     "metadata": {},
     "output_type": "execute_result"
    }
   ],
   "source": [
    "species_per.assign(species_per = lambda df : df[\"count\"] * 100 / 146)"
   ]
  },
  {
   "cell_type": "code",
   "execution_count": 112,
   "id": "a609a39e-ca9c-41b5-9ebb-db6f71df0f3f",
   "metadata": {},
   "outputs": [
    {
     "data": {
      "text/plain": [
       "Index(['SepalLengthCm', 'SepalWidthCm', 'PetalLengthCm', 'PetalWidthCm',\n",
       "       'Species'],\n",
       "      dtype='object')"
      ]
     },
     "execution_count": 112,
     "metadata": {},
     "output_type": "execute_result"
    }
   ],
   "source": [
    "iris_copy.columns"
   ]
  },
  {
   "cell_type": "code",
   "execution_count": 113,
   "id": "be90d68e-0dd7-430c-a0ec-73cd7451d175",
   "metadata": {},
   "outputs": [],
   "source": [
    "iris_copy[\"test\"] = species_per[\"count\"] * 100 / 146"
   ]
  },
  {
   "cell_type": "code",
   "execution_count": 115,
   "id": "74c8c859-4e2f-4a22-a394-475c8a5a6fed",
   "metadata": {},
   "outputs": [],
   "source": [
    "iris_copy.drop(columns=\"test\", inplace=True)"
   ]
  },
  {
   "cell_type": "code",
   "execution_count": 116,
   "id": "88d670de-6811-4617-8d53-b54dd3231a00",
   "metadata": {},
   "outputs": [
    {
     "data": {
      "text/html": [
       "<div>\n",
       "<style scoped>\n",
       "    .dataframe tbody tr th:only-of-type {\n",
       "        vertical-align: middle;\n",
       "    }\n",
       "\n",
       "    .dataframe tbody tr th {\n",
       "        vertical-align: top;\n",
       "    }\n",
       "\n",
       "    .dataframe thead th {\n",
       "        text-align: right;\n",
       "    }\n",
       "</style>\n",
       "<table border=\"1\" class=\"dataframe\">\n",
       "  <thead>\n",
       "    <tr style=\"text-align: right;\">\n",
       "      <th></th>\n",
       "      <th>SepalLengthCm</th>\n",
       "      <th>SepalWidthCm</th>\n",
       "      <th>PetalLengthCm</th>\n",
       "      <th>PetalWidthCm</th>\n",
       "      <th>Species</th>\n",
       "    </tr>\n",
       "  </thead>\n",
       "  <tbody>\n",
       "    <tr>\n",
       "      <th>0</th>\n",
       "      <td>5.1</td>\n",
       "      <td>3.5</td>\n",
       "      <td>1.4</td>\n",
       "      <td>0.2</td>\n",
       "      <td>Iris-setosa</td>\n",
       "    </tr>\n",
       "    <tr>\n",
       "      <th>1</th>\n",
       "      <td>4.9</td>\n",
       "      <td>3.0</td>\n",
       "      <td>1.4</td>\n",
       "      <td>0.2</td>\n",
       "      <td>Iris-setosa</td>\n",
       "    </tr>\n",
       "    <tr>\n",
       "      <th>2</th>\n",
       "      <td>4.7</td>\n",
       "      <td>3.2</td>\n",
       "      <td>1.3</td>\n",
       "      <td>0.2</td>\n",
       "      <td>Iris-setosa</td>\n",
       "    </tr>\n",
       "    <tr>\n",
       "      <th>3</th>\n",
       "      <td>4.6</td>\n",
       "      <td>3.1</td>\n",
       "      <td>1.5</td>\n",
       "      <td>0.2</td>\n",
       "      <td>Iris-setosa</td>\n",
       "    </tr>\n",
       "    <tr>\n",
       "      <th>4</th>\n",
       "      <td>5.0</td>\n",
       "      <td>3.6</td>\n",
       "      <td>1.4</td>\n",
       "      <td>0.2</td>\n",
       "      <td>Iris-setosa</td>\n",
       "    </tr>\n",
       "    <tr>\n",
       "      <th>...</th>\n",
       "      <td>...</td>\n",
       "      <td>...</td>\n",
       "      <td>...</td>\n",
       "      <td>...</td>\n",
       "      <td>...</td>\n",
       "    </tr>\n",
       "    <tr>\n",
       "      <th>145</th>\n",
       "      <td>6.7</td>\n",
       "      <td>3.0</td>\n",
       "      <td>5.2</td>\n",
       "      <td>2.3</td>\n",
       "      <td>Iris-virginica</td>\n",
       "    </tr>\n",
       "    <tr>\n",
       "      <th>146</th>\n",
       "      <td>6.3</td>\n",
       "      <td>2.5</td>\n",
       "      <td>5.0</td>\n",
       "      <td>1.9</td>\n",
       "      <td>Iris-virginica</td>\n",
       "    </tr>\n",
       "    <tr>\n",
       "      <th>147</th>\n",
       "      <td>6.5</td>\n",
       "      <td>3.0</td>\n",
       "      <td>5.2</td>\n",
       "      <td>2.0</td>\n",
       "      <td>Iris-virginica</td>\n",
       "    </tr>\n",
       "    <tr>\n",
       "      <th>148</th>\n",
       "      <td>6.2</td>\n",
       "      <td>3.4</td>\n",
       "      <td>5.4</td>\n",
       "      <td>2.3</td>\n",
       "      <td>Iris-virginica</td>\n",
       "    </tr>\n",
       "    <tr>\n",
       "      <th>149</th>\n",
       "      <td>5.9</td>\n",
       "      <td>3.0</td>\n",
       "      <td>5.1</td>\n",
       "      <td>1.8</td>\n",
       "      <td>Iris-virginica</td>\n",
       "    </tr>\n",
       "  </tbody>\n",
       "</table>\n",
       "<p>146 rows × 5 columns</p>\n",
       "</div>"
      ],
      "text/plain": [
       "     SepalLengthCm  SepalWidthCm  PetalLengthCm  PetalWidthCm         Species\n",
       "0              5.1           3.5            1.4           0.2     Iris-setosa\n",
       "1              4.9           3.0            1.4           0.2     Iris-setosa\n",
       "2              4.7           3.2            1.3           0.2     Iris-setosa\n",
       "3              4.6           3.1            1.5           0.2     Iris-setosa\n",
       "4              5.0           3.6            1.4           0.2     Iris-setosa\n",
       "..             ...           ...            ...           ...             ...\n",
       "145            6.7           3.0            5.2           2.3  Iris-virginica\n",
       "146            6.3           2.5            5.0           1.9  Iris-virginica\n",
       "147            6.5           3.0            5.2           2.0  Iris-virginica\n",
       "148            6.2           3.4            5.4           2.3  Iris-virginica\n",
       "149            5.9           3.0            5.1           1.8  Iris-virginica\n",
       "\n",
       "[146 rows x 5 columns]"
      ]
     },
     "execution_count": 116,
     "metadata": {},
     "output_type": "execute_result"
    }
   ],
   "source": [
    "iris_copy"
   ]
  },
  {
   "cell_type": "code",
   "execution_count": null,
   "id": "70eecb78-98d5-4b53-942e-c685ea725f14",
   "metadata": {},
   "outputs": [],
   "source": []
  }
 ],
 "metadata": {
  "kernelspec": {
   "display_name": "Python 3 (ipykernel)",
   "language": "python",
   "name": "python3"
  },
  "language_info": {
   "codemirror_mode": {
    "name": "ipython",
    "version": 3
   },
   "file_extension": ".py",
   "mimetype": "text/x-python",
   "name": "python",
   "nbconvert_exporter": "python",
   "pygments_lexer": "ipython3",
   "version": "3.12.7"
  }
 },
 "nbformat": 4,
 "nbformat_minor": 5
}

{
 "cells": [
  {
   "cell_type": "code",
   "execution_count": 7,
   "metadata": {},
   "outputs": [],
   "source": [
    "import logging"
   ]
  },
  {
   "cell_type": "code",
   "execution_count": 16,
   "metadata": {},
   "outputs": [
    {
     "name": "stderr",
     "output_type": "stream",
     "text": [
      "DEBUG:root:This is debug message\n",
      "INFO:root:This is info message\n",
      "WARNING:root:This is warning message\n",
      "ERROR:root:This is error message\n",
      "CRITICAL:root:This is critical message\n"
     ]
    }
   ],
   "source": [
    "logging.basicConfig(level=logging.DEBUG)\n",
    "\n",
    "logging.debug('This is debug message')   \n",
    "logging.info('This is info message')\n",
    "logging.warning('This is warning message')\n",
    "logging.error('This is error message')\n",
    "logging.critical('This is critical message')"
   ]
  },
  {
   "cell_type": "code",
   "execution_count": 23,
   "metadata": {},
   "outputs": [
    {
     "name": "stderr",
     "output_type": "stream",
     "text": [
      "DEBUG:root:This is debug message\n",
      "INFO:root:This is info message\n",
      "WARNING:root:This is warning message\n",
      "ERROR:root:This is error message\n",
      "CRITICAL:root:This is critical message\n"
     ]
    }
   ],
   "source": [
    "logging.basicConfig (\n",
    "    level=logging.DEBUG,\n",
    "    format='%(asctime)s - %(name)s - %(levelname)s - %(message)s',\n",
    "    datefmt='%Y-%m-%d %H:%M:%S'\n",
    ")\n",
    "\n",
    "logging.debug('This is debug message')   \n",
    "logging.info('This is info message')\n",
    "logging.warning('This is warning message')\n",
    "logging.error('This is error message')\n",
    "logging.critical('This is critical message')"
   ]
  },
  {
   "cell_type": "code",
   "execution_count": 20,
   "metadata": {},
   "outputs": [
    {
     "name": "stderr",
     "output_type": "stream",
     "text": [
      "DEBUG:root:This is debug message\n",
      "INFO:root:This is info message\n",
      "WARNING:root:This is warning message\n",
      "ERROR:root:This is error message\n",
      "CRITICAL:root:This is critical message\n"
     ]
    }
   ],
   "source": [
    "logging.basicConfig(\n",
    "    level=logging.DEBUG,\n",
    "    format='%(asctime)s - %(levelname)s - %(message)s',\n",
    "    datefmt='%Y/%m/%d %H:%M:%S %p'\n",
    ")\n",
    "\n",
    "logging.debug('This is debug message')   \n",
    "logging.info('This is info message')\n",
    "logging.warning('This is warning message')\n",
    "logging.error('This is error message')\n",
    "logging.critical('This is critical message')"
   ]
  },
  {
   "cell_type": "code",
   "execution_count": 24,
   "metadata": {},
   "outputs": [
    {
     "name": "stderr",
     "output_type": "stream",
     "text": [
      "DEBUG:root:This will get logged\n",
      "WARNING:root:This will get logged\n",
      "INFO:root:This will not get logged\n",
      "ERROR:root:This will get logged\n",
      "CRITICAL:root:This will get logged\n"
     ]
    }
   ],
   "source": [
    "logging.basicConfig(\n",
    "    level=logging.DEBUG,\n",
    "    format='%(asctime)s - %(levelname)s - %(message)s',\n",
    "    datefmt='%Y/%m/%d %H:%M:%S %p'\n",
    ")\n",
    "\n",
    "logging.debug('This will get logged')   \n",
    "logging.warning('This will get logged')\n",
    "logging.info('This will not get logged')\n",
    "logging.error('This will get logged')\n",
    "logging.critical('This will get logged')\n"
   ]
  },
  {
   "cell_type": "code",
   "execution_count": 25,
   "metadata": {},
   "outputs": [
    {
     "name": "stderr",
     "output_type": "stream",
     "text": [
      "DEBUG:root:This is a debug message\n",
      "03/16/2025 01:46:45 PM - DEBUG - This is a debug message\n",
      "INFO:root:This is an info message\n",
      "03/16/2025 01:46:45 PM - INFO - This is an info message\n",
      "WARNING:root:This is a warning message\n",
      "03/16/2025 01:46:45 PM - WARNING - This is a warning message\n",
      "ERROR:root:This is an error message\n",
      "03/16/2025 01:46:45 PM - ERROR - This is an error message\n",
      "CRITICAL:root:This is a critical message\n",
      "03/16/2025 01:46:45 PM - CRITICAL - This is a critical message\n"
     ]
    }
   ],
   "source": [
    "import logging\n",
    "\n",
    "# Create a logging handler to print to the notebook\n",
    "handler = logging.StreamHandler()\n",
    "\n",
    "# Create a formatter for the logging output\n",
    "formatter = logging.Formatter('%(asctime)s - %(levelname)s - %(message)s', datefmt='%m/%d/%Y %I:%M:%S %p')\n",
    "handler.setFormatter(formatter)\n",
    "\n",
    "# Get the root logger and add the handler to it\n",
    "logger = logging.getLogger()\n",
    "logger.addHandler(handler)\n",
    "logger.setLevel(logging.DEBUG)\n",
    "\n",
    "# Now test logging\n",
    "logging.debug('This is a debug message')   \n",
    "logging.info('This is an info message')\n",
    "logging.warning('This is a warning message')\n",
    "logging.error('This is an error message')\n",
    "logging.critical('This is a critical message')\n"
   ]
  },
  {
   "cell_type": "code",
   "execution_count": 1,
   "metadata": {},
   "outputs": [],
   "source": [
    "from pathlib import Path"
   ]
  },
  {
   "cell_type": "code",
   "execution_count": 2,
   "metadata": {},
   "outputs": [
    {
     "data": {
      "text/plain": [
       "WindowsPath('.')"
      ]
     },
     "execution_count": 2,
     "metadata": {},
     "output_type": "execute_result"
    }
   ],
   "source": [
    "Path(\".\")"
   ]
  },
  {
   "cell_type": "code",
   "execution_count": 3,
   "metadata": {},
   "outputs": [
    {
     "data": {
      "text/plain": [
       "WindowsPath('g:/Data Science/iNeuron Full Stack Data Science Full Course/iNeuron Full Stack Data Science Full Course - Repo/05 Machine Learning/Projects/06 Build End to End Pipeline using Iris dataset')"
      ]
     },
     "execution_count": 3,
     "metadata": {},
     "output_type": "execute_result"
    }
   ],
   "source": [
    "Path.cwd()"
   ]
  },
  {
   "cell_type": "code",
   "execution_count": 4,
   "metadata": {},
   "outputs": [
    {
     "data": {
      "text/plain": [
       "WindowsPath('g:/Data Science/iNeuron Full Stack Data Science Full Course/iNeuron Full Stack Data Science Full Course - Repo/05 Machine Learning/Projects/06 Build End to End Pipeline using Iris dataset')"
      ]
     },
     "execution_count": 4,
     "metadata": {},
     "output_type": "execute_result"
    }
   ],
   "source": [
    "currect_path = Path.cwd()\n",
    "currect_path"
   ]
  },
  {
   "cell_type": "code",
   "execution_count": 5,
   "metadata": {},
   "outputs": [
    {
     "data": {
      "text/plain": [
       "WindowsPath('C:/Users/Admin')"
      ]
     },
     "execution_count": 5,
     "metadata": {},
     "output_type": "execute_result"
    }
   ],
   "source": [
    "Path.home()"
   ]
  },
  {
   "cell_type": "code",
   "execution_count": 6,
   "metadata": {},
   "outputs": [
    {
     "data": {
      "text/plain": [
       "False"
      ]
     },
     "execution_count": 6,
     "metadata": {},
     "output_type": "execute_result"
    }
   ],
   "source": [
    "currect_path.is_file()"
   ]
  },
  {
   "cell_type": "code",
   "execution_count": 7,
   "metadata": {},
   "outputs": [
    {
     "data": {
      "text/plain": [
       "True"
      ]
     },
     "execution_count": 7,
     "metadata": {},
     "output_type": "execute_result"
    }
   ],
   "source": [
    "currect_path.is_dir()"
   ]
  },
  {
   "cell_type": "code",
   "execution_count": 11,
   "metadata": {},
   "outputs": [],
   "source": [
    "Path(\"test\").mkdir(exist_ok=True)"
   ]
  },
  {
   "cell_type": "code",
   "execution_count": 12,
   "metadata": {},
   "outputs": [
    {
     "ename": "FileExistsError",
     "evalue": "[WinError 183] Cannot create a file when that file already exists: 'test'",
     "output_type": "error",
     "traceback": [
      "\u001b[1;31m---------------------------------------------------------------------------\u001b[0m",
      "\u001b[1;31mFileExistsError\u001b[0m                           Traceback (most recent call last)",
      "Cell \u001b[1;32mIn[12], line 1\u001b[0m\n\u001b[1;32m----> 1\u001b[0m \u001b[43mPath\u001b[49m\u001b[43m(\u001b[49m\u001b[38;5;124;43m\"\u001b[39;49m\u001b[38;5;124;43mtest\u001b[39;49m\u001b[38;5;124;43m\"\u001b[39;49m\u001b[43m)\u001b[49m\u001b[38;5;241;43m.\u001b[39;49m\u001b[43mmkdir\u001b[49m\u001b[43m(\u001b[49m\u001b[43m)\u001b[49m\n",
      "File \u001b[1;32mh:\\Anaconda\\envs\\iris-ml-app\\lib\\pathlib.py:1323\u001b[0m, in \u001b[0;36mPath.mkdir\u001b[1;34m(self, mode, parents, exist_ok)\u001b[0m\n\u001b[0;32m   1319\u001b[0m \u001b[38;5;250m\u001b[39m\u001b[38;5;124;03m\"\"\"\u001b[39;00m\n\u001b[0;32m   1320\u001b[0m \u001b[38;5;124;03mCreate a new directory at this given path.\u001b[39;00m\n\u001b[0;32m   1321\u001b[0m \u001b[38;5;124;03m\"\"\"\u001b[39;00m\n\u001b[0;32m   1322\u001b[0m \u001b[38;5;28;01mtry\u001b[39;00m:\n\u001b[1;32m-> 1323\u001b[0m     \u001b[38;5;28;43mself\u001b[39;49m\u001b[38;5;241;43m.\u001b[39;49m\u001b[43m_accessor\u001b[49m\u001b[38;5;241;43m.\u001b[39;49m\u001b[43mmkdir\u001b[49m\u001b[43m(\u001b[49m\u001b[38;5;28;43mself\u001b[39;49m\u001b[43m,\u001b[49m\u001b[43m \u001b[49m\u001b[43mmode\u001b[49m\u001b[43m)\u001b[49m\n\u001b[0;32m   1324\u001b[0m \u001b[38;5;28;01mexcept\u001b[39;00m \u001b[38;5;167;01mFileNotFoundError\u001b[39;00m:\n\u001b[0;32m   1325\u001b[0m     \u001b[38;5;28;01mif\u001b[39;00m \u001b[38;5;129;01mnot\u001b[39;00m parents \u001b[38;5;129;01mor\u001b[39;00m \u001b[38;5;28mself\u001b[39m\u001b[38;5;241m.\u001b[39mparent \u001b[38;5;241m==\u001b[39m \u001b[38;5;28mself\u001b[39m:\n",
      "\u001b[1;31mFileExistsError\u001b[0m: [WinError 183] Cannot create a file when that file already exists: 'test'"
     ]
    }
   ],
   "source": [
    "Path(\"test\").mkdir()\n"
   ]
  },
  {
   "cell_type": "code",
   "execution_count": 14,
   "metadata": {},
   "outputs": [],
   "source": [
    "p = Path('new_file.txt')\n",
    "p.touch()"
   ]
  },
  {
   "cell_type": "code",
   "execution_count": 19,
   "metadata": {},
   "outputs": [
    {
     "ename": "TypeError",
     "evalue": "'WindowsPath' object is not subscriptable",
     "output_type": "error",
     "traceback": [
      "\u001b[1;31m---------------------------------------------------------------------------\u001b[0m",
      "\u001b[1;31mTypeError\u001b[0m                                 Traceback (most recent call last)",
      "Cell \u001b[1;32mIn[19], line 1\u001b[0m\n\u001b[1;32m----> 1\u001b[0m \u001b[43mPath\u001b[49m\u001b[43m(\u001b[49m\u001b[43m)\u001b[49m\u001b[38;5;241;43m.\u001b[39;49m\u001b[43mcwd\u001b[49m\u001b[43m(\u001b[49m\u001b[43m)\u001b[49m\u001b[38;5;241;43m.\u001b[39;49m\u001b[43mparent\u001b[49m\u001b[43m[\u001b[49m\u001b[38;5;241;43m1\u001b[39;49m\u001b[43m]\u001b[49m\n",
      "\u001b[1;31mTypeError\u001b[0m: 'WindowsPath' object is not subscriptable"
     ]
    }
   ],
   "source": [
    "Path().cwd().parent[1]"
   ]
  },
  {
   "cell_type": "code",
   "execution_count": 20,
   "metadata": {},
   "outputs": [
    {
     "data": {
      "text/plain": [
       "WindowsPath('.')"
      ]
     },
     "execution_count": 20,
     "metadata": {},
     "output_type": "execute_result"
    }
   ],
   "source": [
    "Path()"
   ]
  },
  {
   "cell_type": "code",
   "execution_count": 21,
   "metadata": {},
   "outputs": [
    {
     "data": {
      "text/plain": [
       "WindowsPath('test/vithu.py')"
      ]
     },
     "execution_count": 21,
     "metadata": {},
     "output_type": "execute_result"
    }
   ],
   "source": [
    "Path('test/vithu.py')"
   ]
  },
  {
   "cell_type": "code",
   "execution_count": 34,
   "metadata": {},
   "outputs": [],
   "source": [
    "with open('example.py', 'w') as file:\n",
    "    pass"
   ]
  },
  {
   "cell_type": "code",
   "execution_count": 35,
   "metadata": {},
   "outputs": [],
   "source": [
    "Path(\"example.py\").touch()"
   ]
  },
  {
   "cell_type": "code",
   "execution_count": null,
   "metadata": {},
   "outputs": [],
   "source": []
  },
  {
   "cell_type": "code",
   "execution_count": null,
   "metadata": {},
   "outputs": [
    {
     "name": "stdout",
     "output_type": "stream",
     "text": [
      "example.py\n",
      "example.txt\n",
      "logging_config.py\n",
      "main.py\n",
      "new_file.txt\n",
      "Steps to Implements this project.txt\n",
      "template.py\n",
      "test\n",
      "test.ipynb\n",
      "__pycache__\n"
     ]
    }
   ],
   "source": [
    "path = Path(\".\")  # Current directory\n",
    "\n",
    "# List all files and directories\n",
    "for item in path.iterdir():\n",
    "    print(item)"
   ]
  },
  {
   "cell_type": "code",
   "execution_count": 67,
   "metadata": {},
   "outputs": [],
   "source": [
    "project_name = \"iris-ml-app\"\n",
    "\n",
    "folders = [\n",
    "    \"data/raw\",\n",
    "    \"data/processed\",\n",
    "    \"notebooks\",\n",
    "    \"src\",\n",
    "    \"src/data\",\n",
    "    \"src/models\",\n",
    "    \"src/utils\",\n",
    "    \"reports\",\n",
    "    \"logs\",\n",
    "    \"config\"\n",
    "]\n",
    "\n",
    "for folder in folders:\n",
    "    Path(f\"{project_name}/{folder}\").mkdir(parents=True, exist_ok=True)"
   ]
  },
  {
   "cell_type": "code",
   "execution_count": 68,
   "metadata": {},
   "outputs": [],
   "source": [
    "files = [\n",
    "    \"src/__init__.py\",\n",
    "    \"src/data/load_data.py\",\n",
    "    \"src/data/preprocess.py\",\n",
    "    \"src/models/train_model.py\",\n",
    "    \"src/models/evaluate_model.py\",\n",
    "    \"main.py\",\n",
    "    \"requirements.txt\",\n",
    "    \"README.md\"\n",
    "]\n",
    "\n",
    "for file in files:\n",
    "    Path(f\"{project_name}/{file}\").touch()"
   ]
  },
  {
   "cell_type": "code",
   "execution_count": null,
   "metadata": {},
   "outputs": [],
   "source": []
  }
 ],
 "metadata": {
  "kernelspec": {
   "display_name": "Python 3",
   "language": "python",
   "name": "python3"
  },
  "language_info": {
   "codemirror_mode": {
    "name": "ipython",
    "version": 3
   },
   "file_extension": ".py",
   "mimetype": "text/x-python",
   "name": "python",
   "nbconvert_exporter": "python",
   "pygments_lexer": "ipython3",
   "version": "3.9.21"
  }
 },
 "nbformat": 4,
 "nbformat_minor": 2
}

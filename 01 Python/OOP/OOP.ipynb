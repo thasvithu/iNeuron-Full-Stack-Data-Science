{
 "cells": [
  {
   "cell_type": "code",
   "execution_count": 7,
   "id": "16232f8e-80f8-4642-9c3d-4b461d3ab036",
   "metadata": {},
   "outputs": [],
   "source": [
    "# creating a simple class and obejct"
   ]
  },
  {
   "cell_type": "code",
   "execution_count": 8,
   "id": "38a3976b-9ddb-478b-b6c9-6b610a739263",
   "metadata": {},
   "outputs": [],
   "source": [
    "class Car:\n",
    "    pass"
   ]
  },
  {
   "cell_type": "code",
   "execution_count": 9,
   "id": "92f2fe58-bf39-4046-93ab-875ec157db8c",
   "metadata": {},
   "outputs": [
    {
     "data": {
      "text/plain": [
       "<__main__.Car at 0x1d131593620>"
      ]
     },
     "execution_count": 9,
     "metadata": {},
     "output_type": "execute_result"
    }
   ],
   "source": [
    "audi = Car()\n",
    "audi"
   ]
  },
  {
   "cell_type": "code",
   "execution_count": 10,
   "id": "7aead8d4-f1dd-485e-8c5b-1d6214d46b13",
   "metadata": {},
   "outputs": [
    {
     "data": {
      "text/plain": [
       "<__main__.Car at 0x1d1315929f0>"
      ]
     },
     "execution_count": 10,
     "metadata": {},
     "output_type": "execute_result"
    }
   ],
   "source": [
    "bmw = Car()\n",
    "bmw"
   ]
  },
  {
   "cell_type": "code",
   "execution_count": 11,
   "id": "38e25359-492e-4ffe-a82a-e5df87ab5ec4",
   "metadata": {},
   "outputs": [
    {
     "name": "stdout",
     "output_type": "stream",
     "text": [
      "<class '__main__.Car'>\n"
     ]
    }
   ],
   "source": [
    "print(type(audi))"
   ]
  },
  {
   "cell_type": "code",
   "execution_count": 12,
   "id": "9ff3db06-35da-450c-80b0-d07485565f62",
   "metadata": {},
   "outputs": [
    {
     "data": {
      "text/plain": [
       "['__class__',\n",
       " '__delattr__',\n",
       " '__dict__',\n",
       " '__dir__',\n",
       " '__doc__',\n",
       " '__eq__',\n",
       " '__format__',\n",
       " '__ge__',\n",
       " '__getattribute__',\n",
       " '__getstate__',\n",
       " '__gt__',\n",
       " '__hash__',\n",
       " '__init__',\n",
       " '__init_subclass__',\n",
       " '__le__',\n",
       " '__lt__',\n",
       " '__module__',\n",
       " '__ne__',\n",
       " '__new__',\n",
       " '__reduce__',\n",
       " '__reduce_ex__',\n",
       " '__repr__',\n",
       " '__setattr__',\n",
       " '__sizeof__',\n",
       " '__str__',\n",
       " '__subclasshook__',\n",
       " '__weakref__']"
      ]
     },
     "execution_count": 12,
     "metadata": {},
     "output_type": "execute_result"
    }
   ],
   "source": [
    "dir(bmw)"
   ]
  },
  {
   "cell_type": "code",
   "execution_count": 13,
   "id": "651da06c-0957-48a7-a30a-7569061d6a46",
   "metadata": {},
   "outputs": [],
   "source": [
    "# Instance Variable and Methods\n",
    "class Dog:\n",
    "    def __init__(self, name, age):\n",
    "        self.name=name\n",
    "        self.age=age\n"
   ]
  },
  {
   "cell_type": "code",
   "execution_count": 15,
   "id": "1a3ce0ae-4ef9-4623-8d5d-f55c6b5edfe7",
   "metadata": {},
   "outputs": [],
   "source": [
    "dog1 = Dog(\"Buddy\", 3)"
   ]
  },
  {
   "cell_type": "code",
   "execution_count": 16,
   "id": "f1bcb4a3-8b2e-43e6-827d-42ae76baf6d3",
   "metadata": {},
   "outputs": [
    {
     "data": {
      "text/plain": [
       "<__main__.Dog at 0x1d12fed09b0>"
      ]
     },
     "execution_count": 16,
     "metadata": {},
     "output_type": "execute_result"
    }
   ],
   "source": [
    "dog1"
   ]
  },
  {
   "cell_type": "code",
   "execution_count": 19,
   "id": "20be3658-c8fa-4a32-82b6-b29569fb58d6",
   "metadata": {},
   "outputs": [
    {
     "data": {
      "text/plain": [
       "('Buddy', 3)"
      ]
     },
     "execution_count": 19,
     "metadata": {},
     "output_type": "execute_result"
    }
   ],
   "source": [
    "dog1.name, dog1.age"
   ]
  },
  {
   "cell_type": "code",
   "execution_count": 39,
   "id": "e1d9023f-ee6b-40a1-9c88-90752156e82a",
   "metadata": {},
   "outputs": [],
   "source": [
    "class Dog:\n",
    "    name = \"Puppy\"\n",
    "    age = 3\n",
    "\n",
    "    def __init__(self):\n",
    "        self.name1 = \"Puppy1\"\n",
    "        self.age1 = 4"
   ]
  },
  {
   "cell_type": "code",
   "execution_count": 40,
   "id": "974807b1-4ad2-47d9-b4b8-515d1eb63e31",
   "metadata": {},
   "outputs": [],
   "source": [
    "test = Dog()"
   ]
  },
  {
   "cell_type": "code",
   "execution_count": 41,
   "id": "43f29c5e-de86-4972-8f0d-3c1efd88fdfc",
   "metadata": {},
   "outputs": [
    {
     "data": {
      "text/plain": [
       "'Puppy'"
      ]
     },
     "execution_count": 41,
     "metadata": {},
     "output_type": "execute_result"
    }
   ],
   "source": [
    "test.name"
   ]
  },
  {
   "cell_type": "code",
   "execution_count": 42,
   "id": "86fda0be-bbbe-4588-852b-820dbd926e10",
   "metadata": {},
   "outputs": [
    {
     "data": {
      "text/plain": [
       "'Puppy1'"
      ]
     },
     "execution_count": 42,
     "metadata": {},
     "output_type": "execute_result"
    }
   ],
   "source": [
    "test.name1"
   ]
  },
  {
   "cell_type": "code",
   "execution_count": 43,
   "id": "34ccc000-d67a-4941-91fb-46b0ac09b6fe",
   "metadata": {},
   "outputs": [
    {
     "data": {
      "text/plain": [
       "'Puppy'"
      ]
     },
     "execution_count": 43,
     "metadata": {},
     "output_type": "execute_result"
    }
   ],
   "source": [
    "Dog.name"
   ]
  },
  {
   "cell_type": "code",
   "execution_count": 123,
   "id": "36c11008-caab-45f4-8fde-5c1dd00f734c",
   "metadata": {},
   "outputs": [],
   "source": [
    "class Dog:\n",
    "    name1 = \"Vithu\"\n",
    "    age1 = 3\n",
    "\n",
    "    def __init__(self):\n",
    "        self.name1 = \"Nila\"\n",
    "        self.age1 = 4\n",
    "\n",
    "    @staticmethod\n",
    "    def take_name():\n",
    "        name1 = \"baby\"\n",
    "        print(name1)\n",
    "\n",
    "    \n",
    "    def take_age(self):\n",
    "        print(self.name1)\n",
    "\n",
    "    @classmethod\n",
    "    def class_method(cls):\n",
    "        print(cls.name1)"
   ]
  },
  {
   "cell_type": "code",
   "execution_count": 124,
   "id": "26efbe9c-3eb4-4bf9-88f7-0d093337667d",
   "metadata": {},
   "outputs": [],
   "source": [
    "test1 = Dog()"
   ]
  },
  {
   "cell_type": "code",
   "execution_count": 125,
   "id": "1fb3ee25-1d62-49eb-a883-ad1b939941f6",
   "metadata": {},
   "outputs": [
    {
     "name": "stdout",
     "output_type": "stream",
     "text": [
      "baby\n"
     ]
    }
   ],
   "source": [
    "test1.take_name()"
   ]
  },
  {
   "cell_type": "code",
   "execution_count": 126,
   "id": "b2871e91-7915-4eca-9a64-764af2fc5a11",
   "metadata": {},
   "outputs": [
    {
     "name": "stdout",
     "output_type": "stream",
     "text": [
      "Nila\n"
     ]
    }
   ],
   "source": [
    "test1.take_age()"
   ]
  },
  {
   "cell_type": "code",
   "execution_count": 127,
   "id": "f8c5754f-27e4-4602-9f39-d39852ce36f9",
   "metadata": {},
   "outputs": [
    {
     "name": "stdout",
     "output_type": "stream",
     "text": [
      "Vithu\n"
     ]
    }
   ],
   "source": [
    "test1.class_method()"
   ]
  },
  {
   "cell_type": "code",
   "execution_count": 128,
   "id": "80cdd13d-6f7c-4597-bb73-39aab6e312c8",
   "metadata": {},
   "outputs": [],
   "source": [
    "class Dog:\n",
    "    name1 = \"Vithu\"\n",
    "    age1 = 3\n",
    "\n",
    "    @classmethod\n",
    "    def class_method(cls):\n",
    "        print(cls.name1)"
   ]
  },
  {
   "cell_type": "code",
   "execution_count": 130,
   "id": "3504628c-46d2-4e75-849b-d7f5be857812",
   "metadata": {},
   "outputs": [],
   "source": [
    "a = Dog()"
   ]
  },
  {
   "cell_type": "code",
   "execution_count": 131,
   "id": "084bf32d-6c48-4987-93ca-adb50265608b",
   "metadata": {},
   "outputs": [
    {
     "name": "stdout",
     "output_type": "stream",
     "text": [
      "Vithu\n"
     ]
    }
   ],
   "source": [
    "a.class_method()"
   ]
  },
  {
   "cell_type": "code",
   "execution_count": null,
   "id": "e06d4495-bfe0-47f3-8af0-1211df3d1287",
   "metadata": {},
   "outputs": [],
   "source": []
  }
 ],
 "metadata": {
  "kernelspec": {
   "display_name": "Python 3 (ipykernel)",
   "language": "python",
   "name": "python3"
  },
  "language_info": {
   "codemirror_mode": {
    "name": "ipython",
    "version": 3
   },
   "file_extension": ".py",
   "mimetype": "text/x-python",
   "name": "python",
   "nbconvert_exporter": "python",
   "pygments_lexer": "ipython3",
   "version": "3.12.7"
  }
 },
 "nbformat": 4,
 "nbformat_minor": 5
}

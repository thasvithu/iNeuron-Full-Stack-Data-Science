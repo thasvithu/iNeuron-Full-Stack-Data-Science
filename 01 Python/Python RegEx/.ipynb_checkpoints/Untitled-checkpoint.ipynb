{
 "cells": [
  {
   "cell_type": "code",
   "execution_count": 1,
   "id": "c9b5d694",
   "metadata": {},
   "outputs": [],
   "source": [
    "import re"
   ]
  },
  {
   "cell_type": "code",
   "execution_count": 190,
   "id": "dc4d1cdc",
   "metadata": {},
   "outputs": [
    {
     "name": "stdout",
     "output_type": "stream",
     "text": [
      "<re.Match object; span=(0, 17), match='The rain in Spain'>\n"
     ]
    }
   ],
   "source": [
    "txt = \"The rain in Spain\"\n",
    "x = re.search(\"^The.*Spain$\", txt)\n",
    "print(x)"
   ]
  },
  {
   "cell_type": "markdown",
   "id": "3c20c221",
   "metadata": {},
   "source": [
    "# [a-z]\n",
    "- Square brackets [] define a character class. It is used to match any single character that is present inside the brackets. For example, [abc] will match either 'a', 'b', or 'c'. You can also define ranges, like [a-z] to match any lowercase letter. When used, it checks if the input string contains one of the characters from the defined set."
   ]
  },
  {
   "cell_type": "code",
   "execution_count": 20,
   "id": "2c829c47",
   "metadata": {},
   "outputs": [
    {
     "name": "stdout",
     "output_type": "stream",
     "text": [
      "['h', 'e', 'a', 'i', 'i', 'a', 'i']\n"
     ]
    }
   ],
   "source": [
    "#Find all lower case characters alphabetically between \"a\" and \"m\":\n",
    "x = re.findall(\"[a-m]\", txt)\n",
    "print(x)"
   ]
  },
  {
   "cell_type": "markdown",
   "id": "eed07dec",
   "metadata": {},
   "source": [
    "# [A-Z]"
   ]
  },
  {
   "cell_type": "code",
   "execution_count": 22,
   "id": "7eb8db03",
   "metadata": {},
   "outputs": [
    {
     "name": "stdout",
     "output_type": "stream",
     "text": [
      "['T', 'S']\n"
     ]
    }
   ],
   "source": [
    "#Find all Upper case characters alphabetically between \"A\" and \"Z\":\n",
    "x = re.findall(\"[A-Z]\", txt)\n",
    "print(x)"
   ]
  },
  {
   "cell_type": "markdown",
   "id": "03246532",
   "metadata": {},
   "source": [
    "# \\d\n",
    "###### `\\d` (Digit) in Regular Expressions:\n",
    "\n",
    "The `\\d` symbol matches any **digit** character. It is equivalent to `[0-9]`, which means it will match any character from 0 to 9. \n",
    "\n",
    "###### Example:\n",
    "- `\\d` matches **'1'**, **'5'**, **'9'** in the string.\n",
    "- `\\d{2}` matches exactly **two digits** like '12', '99', '34', etc."
   ]
  },
  {
   "cell_type": "code",
   "execution_count": 30,
   "id": "9cc44d82",
   "metadata": {},
   "outputs": [
    {
     "name": "stdout",
     "output_type": "stream",
     "text": [
      "['5', '9']\n"
     ]
    }
   ],
   "source": [
    "txt = \"That will be 59 dollars\"\n",
    "\n",
    "#Find all digit characters:\n",
    "x = re.findall(\"\\d\", txt)\n",
    "print(x)"
   ]
  },
  {
   "cell_type": "markdown",
   "id": "bb477fb5",
   "metadata": {},
   "source": [
    "# .\n",
    "###### `.` (Dot) in Regular Expressions:\n",
    "\n",
    "The `.` symbol matches **any single character** except for newline characters (`\\n`).\n",
    "\n",
    "###### Example:\n",
    "- `a.b` matches any string that has an \"a\", followed by any character, and then a \"b\". For example, it will match \"acb\", \"axb\", \"a3b\", but not \"ab\" (since there's no character between \"a\" and \"b\").\n",
    "\n",
    "###### Key Point:\n",
    "- The dot (`.`) is a wildcard, meaning it can match **any character** except a newline."
   ]
  },
  {
   "cell_type": "code",
   "execution_count": 58,
   "id": "1a684a96",
   "metadata": {},
   "outputs": [
    {
     "name": "stdout",
     "output_type": "stream",
     "text": [
      "Output of a variable : ['hel']\n",
      "Output of b variable : ['hell']\n",
      "Output of c variable : ['hello']\n"
     ]
    }
   ],
   "source": [
    "txt = \"hello planet\"\n",
    "\n",
    "a = re.findall(\"he.\", txt)\n",
    "#Search for a sequence that starts with \"he\", followed by two (any) characters, and an \"o\":\n",
    "b = re.findall(\"he..\", txt)\n",
    "c = re.findall(\"he..o\",txt)\n",
    "\n",
    "print(f\"Output of a variable : {a}\")\n",
    "print(f\"Output of b variable : {b}\")\n",
    "print(f\"Output of c variable : {c}\")"
   ]
  },
  {
   "cell_type": "markdown",
   "id": "3e65dae1",
   "metadata": {},
   "source": [
    "# ^\n",
    "###### `^` (Caret) in Regular Expressions:\n",
    "\n",
    "The `^` symbol is used to **anchor** the match to the **beginning** of a string (or line, in multi-line mode). It asserts that the match must occur at the start of the string.\n",
    "\n",
    "###### Example:\n",
    "- `^Hello` will match any string that **starts with \"Hello\"**. For instance, it will match \"Hello there\" but not \"Say Hello\".\n",
    "\n",
    "###### Key Point:\n",
    "- The caret (`^`) is used to ensure that a match occurs **only at the start** of the string or line. It is a powerful way to restrict matching patterns to the beginning of your input text."
   ]
  },
  {
   "cell_type": "code",
   "execution_count": 61,
   "id": "85aa719d",
   "metadata": {},
   "outputs": [
    {
     "name": "stdout",
     "output_type": "stream",
     "text": [
      "Yes, the string starts with 'hello'\n"
     ]
    }
   ],
   "source": [
    "txt = \"hello planet\"\n",
    "\n",
    "#Check if the string starts with 'hello':\n",
    "x = re.findall(\"^hello\", txt)\n",
    "if x:\n",
    "    print(\"Yes, the string starts with 'hello'\")\n",
    "else:\n",
    "    print(\"No match\")"
   ]
  },
  {
   "cell_type": "markdown",
   "id": "0bbb9d39",
   "metadata": {},
   "source": [
    "# $\n",
    "###### `$` (Dollar Sign) in Regular Expressions:\n",
    "\n",
    "The `$` symbol is used to **anchor** the match to the **end** of a string (or line, in multi-line mode). It asserts that the match must occur at the end of the string.\n",
    "\n",
    "###### Example:\n",
    "- `world$` will match any string that **ends with \"world\"**. For instance, it will match \"Hello world\" but not \"world Hello\".\n",
    "\n",
    "###### Key Point:\n",
    "- The dollar sign (`$`) is used to ensure that a match occurs **only at the end** of the string or line. It is useful for checking or capturing patterns at the end of a text input."
   ]
  },
  {
   "cell_type": "code",
   "execution_count": 64,
   "id": "c67aaffd",
   "metadata": {},
   "outputs": [
    {
     "name": "stdout",
     "output_type": "stream",
     "text": [
      "Yes, the string ends with 'planet'\n"
     ]
    }
   ],
   "source": [
    "txt = \"hello planet\"\n",
    "\n",
    "#Check if the string ends with 'planet':\n",
    "x = re.findall(\"planet$\", txt)\n",
    "if x:\n",
    "    print(\"Yes, the string ends with 'planet'\")\n",
    "else:\n",
    "    print(\"No match\")"
   ]
  },
  {
   "cell_type": "markdown",
   "id": "ed24317f",
   "metadata": {},
   "source": [
    "# *\n",
    "###### `*` (Asterisk) in Regular Expressions:\n",
    "\n",
    "The `*` symbol is used to match **zero or more occurrences** of the preceding character, group, or pattern. It means that the pattern can repeat any number of times, including not appearing at all.\n",
    "\n",
    "###### Example:\n",
    "- `a*` will match:\n",
    "  - An empty string (because it allows zero occurrences of \"a\").\n",
    "  - Any string with one or more \"a\"s (like \"a\", \"aa\", \"aaa\", etc.).\n",
    "\n",
    "###### Key Point:\n",
    "- The `*` quantifier allows flexibility in pattern matching, as it accepts both **empty** and **repeated** occurrences of the preceding element."
   ]
  },
  {
   "cell_type": "code",
   "execution_count": 121,
   "id": "631ae7cd",
   "metadata": {},
   "outputs": [
    {
     "name": "stdout",
     "output_type": "stream",
     "text": [
      "['heo']\n"
     ]
    }
   ],
   "source": [
    "txt = \"heo planet\"\n",
    "\n",
    "#Search for a sequence that starts with \"he\", followed by 0 or more  (any) characters, and an \"o\":\n",
    "x = re.findall(\"he.*o\", txt)\n",
    "\n",
    "print(x)"
   ]
  },
  {
   "cell_type": "markdown",
   "id": "94125452",
   "metadata": {},
   "source": [
    "# +\n",
    "###### `+` (Plus) in Regular Expressions:\n",
    "\n",
    "The `+` symbol is used to match **one or more occurrences** of the preceding character, group, or pattern. Unlike the `*`, which allows zero occurrences, `+` requires at least one occurrence of the pattern to match.\n",
    "\n",
    "###### Example:\n",
    "- `a+` will match:\n",
    "  - \"a\", \"aa\", \"aaa\", etc.\n",
    "  - It **won't** match an empty string because at least one \"a\" is required.\n",
    "\n",
    "###### Key Point:\n",
    "- The `+` quantifier ensures that the pattern appears at least once, making it different from `*`, which can match zero occurrences. It is useful when you expect a minimum of one repetition."
   ]
  },
  {
   "cell_type": "code",
   "execution_count": 127,
   "id": "7ef7dc22",
   "metadata": {},
   "outputs": [
    {
     "name": "stdout",
     "output_type": "stream",
     "text": [
      "['hello']\n"
     ]
    }
   ],
   "source": [
    "txt = \"hello planet\"\n",
    "\n",
    "#Search for a sequence that starts with \"he\", followed by 1 or more  (any) characters, and an \"o\":\n",
    "x = re.findall(\"he.+o\", txt)\n",
    "\n",
    "print(x)"
   ]
  },
  {
   "cell_type": "markdown",
   "id": "24a6dc1f",
   "metadata": {},
   "source": [
    "# ?\n",
    "###### `?` (Question Mark) in Regular Expressions:\n",
    "\n",
    "The `?` symbol is used to match **zero or one occurrence** of the preceding character, group, or pattern. It makes the preceding element optional.\n",
    "\n",
    "###### Example:\n",
    "- `a?` will match:\n",
    "  - An empty string (because zero occurrences of \"a\" is allowed).\n",
    "  - \"a\" (one occurrence of \"a\").\n",
    "  - It **won't** match \"aa\", \"aaa\", or any other string with more than one \"a\".\n",
    "\n",
    "###### Key Point:\n",
    "- The `?` quantifier is useful when you want to make a part of your pattern optional. It means the pattern can occur **at most once** or **not at all**."
   ]
  },
  {
   "cell_type": "code",
   "execution_count": 137,
   "id": "1200b1ad",
   "metadata": {},
   "outputs": [
    {
     "name": "stdout",
     "output_type": "stream",
     "text": [
      "[]\n"
     ]
    }
   ],
   "source": [
    "import re\n",
    "\n",
    "txt = \"hello planet\"\n",
    "\n",
    "#Search for a sequence that starts with \"he\", followed by 0 or 1  (any) character, and an \"o\":\n",
    "x = re.findall(\"he.?o\", txt)\n",
    "\n",
    "print(x)\n",
    "\n",
    "#This time we got no match, because there were not zero, not one, but two characters between \"he\" and the \"o\""
   ]
  },
  {
   "cell_type": "markdown",
   "id": "36510b2b",
   "metadata": {},
   "source": [
    "# {}\n",
    "###### `{}` (Curly Braces) in Regular Expressions:\n",
    "\n",
    "The `{}` symbol is used to **specify the exact number of occurrences** of the preceding character, group, or pattern. It allows you to match a specific number of repetitions, or a range of repetitions.\n",
    "\n",
    "###### Syntax:\n",
    "- `{n}`: Matches exactly **n** occurrences of the preceding element.\n",
    "- `{n,}`: Matches **n or more** occurrences of the preceding element.\n",
    "- `{n,m}`: Matches between **n and m** occurrences of the preceding element.\n",
    "\n",
    "###### Example:\n",
    "1. `a{3}`:\n",
    "   - This will match exactly **3 occurrences** of \"a\" (i.e., \"aaa\").\n",
    "\n",
    "2. `a{2,4}`:\n",
    "   - This will match **2 to 4 occurrences** of \"a\" (i.e., \"aa\", \"aaa\", or \"aaaa\").\n",
    "\n",
    "3. `a{2,}`:\n",
    "   - This will match **2 or more occurrences** of \"a\" (i.e., \"aa\", \"aaa\", \"aaaa\", etc.).\n",
    "\n",
    "4. `a{,3}`:\n",
    "   - This will match **up to 3 occurrences** of \"a\" (i.e., \"a\", \"aa\", or \"aaa\").\n",
    "\n",
    "###### Key Point:\n",
    "- The `{}` quantifier allows you to fine-tune how many times a pattern can occur, giving you flexibility to match specific repetitions of a character or group."
   ]
  },
  {
   "cell_type": "code",
   "execution_count": 144,
   "id": "38495786",
   "metadata": {},
   "outputs": [
    {
     "name": "stdout",
     "output_type": "stream",
     "text": [
      "['hello']\n"
     ]
    }
   ],
   "source": [
    "txt = \"hello planet\"\n",
    "\n",
    "#Search for a sequence that starts with \"he\", followed excactly 2 (any) characters, and an \"o\":\n",
    "x = re.findall(\"he.{2}o\", txt)\n",
    "\n",
    "print(x)"
   ]
  },
  {
   "cell_type": "markdown",
   "id": "21d1b9a0",
   "metadata": {},
   "source": [
    "# |\n",
    "###### `|` (Pipe) in Regular Expressions:\n",
    "\n",
    "The `|` symbol represents the **OR** operator in regular expressions. It allows you to match one pattern **or** another, providing a choice between different alternatives.\n",
    "\n",
    "###### Syntax:\n",
    "- `A|B`: Matches **either** pattern `A` **or** pattern `B`.\n",
    "\n",
    "###### Example:\n",
    "1. `cat|dog`:\n",
    "   - This will match either the word **\"cat\"** or the word **\"dog\"**.\n",
    "\n",
    "2. `apple|orange|banana`:\n",
    "   - This will match **either** the word \"apple\", \"orange\", or \"banana\".\n",
    "\n",
    "3. `(a|b)c`:\n",
    "   - This will match either \"ac\" or \"bc\", where it first matches **\"a\"** or **\"b\"**, and then \"c\" must follow.\n",
    "\n",
    "###### Key Point:\n",
    "- The `|` symbol allows you to match multiple options in a regular expression. It's very useful when you want to search for any one of several possible patterns in a string."
   ]
  },
  {
   "cell_type": "code",
   "execution_count": 150,
   "id": "f0d5690d",
   "metadata": {},
   "outputs": [
    {
     "name": "stdout",
     "output_type": "stream",
     "text": [
      "['falls']\n",
      "Yes, there is at least one match!\n"
     ]
    }
   ],
   "source": [
    "txt = \"The rain in Spain falls mainly in the plain!\"\n",
    "\n",
    "#Check if the string contains either \"falls\" or \"stays\":\n",
    "x = re.findall(\"falls|stays\", txt)\n",
    "print(x)\n",
    "\n",
    "if x:\n",
    "    print(\"Yes, there is at least one match!\")\n",
    "else:\n",
    "    print(\"No match\")"
   ]
  },
  {
   "cell_type": "code",
   "execution_count": 159,
   "id": "ecbb3ab5",
   "metadata": {},
   "outputs": [
    {
     "name": "stdout",
     "output_type": "stream",
     "text": [
      "['The']\n",
      "['The']\n",
      "Yes, there is a match!\n"
     ]
    }
   ],
   "source": [
    "txt = \"The rain in Spain\"\n",
    "\n",
    "#Check if the string starts with \"The\":\n",
    "x = re.findall(\"\\AThe\", txt)\n",
    "y = re.findall(\"^The\", txt)\n",
    "\n",
    "print(x)\n",
    "print(y)\n",
    "\n",
    "if x and y:\n",
    "    print(\"Yes, there is a match!\")\n",
    "else:\n",
    "    print(\"No match\")"
   ]
  },
  {
   "cell_type": "markdown",
   "id": "255fba02",
   "metadata": {},
   "source": [
    "# \\A\n",
    "###### `\\A` in Regular Expressions:\n",
    "\n",
    "The `\\A` symbol is used to match the **start of a string**, **regardless** of whether the string is multi-line or not. It ensures that the match occurs at the very beginning of the input string.\n",
    "\n",
    "###### Syntax:\n",
    "- `\\A`: Matches only the start of the string.\n",
    "\n",
    "###### Example:\n",
    "1. `\\AHello`:\n",
    "   - This will match the word **\"Hello\"** only if it appears at the very beginning of the string.\n",
    "\n",
    "   - If the string is `\"Hello world\"`, it matches **\"Hello\"**.\n",
    "   - If the string is `\"A Hello world\"`, it does **not** match because **\"Hello\"** is not at the start of the string.\n",
    "\n",
    "###### Key Point:\n",
    "- Unlike `^`, which can be used in multi-line mode to match the start of any line, `\\A` will only match the **start of the entire string**. This makes it more strict when you're working with multi-line input.\n",
    "\n"
   ]
  },
  {
   "cell_type": "code",
   "execution_count": 170,
   "id": "4cd503f0",
   "metadata": {},
   "outputs": [
    {
     "name": "stdout",
     "output_type": "stream",
     "text": [
      "['The']\n",
      "['The', 'The']\n"
     ]
    }
   ],
   "source": [
    "txt = \"The quick brown fox.\\nThe lazy dog.\"\n",
    "\n",
    "# Using \\A - Only matches \"The\" at the very beginning of the string\n",
    "x = re.findall(r\"\\AThe\", txt, re.MULTILINE)  # Output: ['The']\n",
    "\n",
    "# Using ^ - In regular mode, it matches \"The\" at the beginning of the string\n",
    "y = re.findall(\"^The\", txt, re.MULTILINE)  # Output: ['The', 'The'] (with re.MULTILINE)\n",
    "\n",
    "print(x)\n",
    "print(y)"
   ]
  },
  {
   "cell_type": "markdown",
   "id": "7d12ba3b",
   "metadata": {},
   "source": [
    "# \\b\n",
    "###### `\\b` in Regular Expressions:\n",
    "\n",
    "The `\\b` symbol is used to match a **word boundary**. It ensures that the match occurs at the **start** or **end** of a word. A word boundary is the position between a word character (like a letter, number, or underscore) and a non-word character (like space, punctuation, etc.).\n",
    "\n",
    "###### Syntax:\n",
    "- `\\b`: Matches a word boundary.\n",
    "- It does **not** consume characters in the string; it only asserts the position.\n",
    "\n",
    "###### Example:\n",
    "1. `\\bcat\\b`:\n",
    "   - This will match **\"cat\"** only if it is a whole word, not part of a larger word.\n",
    "\n",
    "   - Matches: `\"cat is small\"`, `\"a cat\"` (because \"cat\" is a separate word).\n",
    "   - Does not match: `\"concats\"` (because \"cat\" is part of the word \"concats\").\n",
    "\n",
    "2. `\\b123`:\n",
    "   - This will match the number `123` if it occurs at the start of a word (e.g., `\"123abc\"`).\n",
    "   - It does not match if the number `123` is part of a larger number (e.g., `\"a123\"`).\n",
    "\n",
    "###### Key Point:\n",
    "- The `\\b` symbol helps ensure that the pattern matches **exact words**, and not part of a longer string.\n",
    "- It works even in multi-line strings, where it matches the boundaries between lines as well."
   ]
  },
  {
   "cell_type": "code",
   "execution_count": 193,
   "id": "1a4efb34",
   "metadata": {},
   "outputs": [
    {
     "name": "stdout",
     "output_type": "stream",
     "text": [
      "['The']\n",
      "['dog']\n"
     ]
    }
   ],
   "source": [
    "txt = \"The quick brown the fox jumps over the lazy dog.\"\n",
    "\n",
    "# Using \\b to match the beginning of a word\n",
    "match = re.findall(r\"\\bThe\", txt)\n",
    "print(match)\n",
    "\n",
    "# Using \\b to match the end of a word\n",
    "match_end = re.findall(r\"dog\\b\", txt)\n",
    "print(match_end)"
   ]
  },
  {
   "cell_type": "markdown",
   "id": "bd3b6b5f",
   "metadata": {},
   "source": [
    "# \\B\n",
    "###### `\\B` in Regular Expressions:\n",
    "\n",
    "The `\\B` symbol is used to match a **non-word boundary**. It asserts the position where a **word boundary does not exist**. In other words, it matches positions where there is no transition between a word character (like a letter or number) and a non-word character (such as spaces, punctuation, etc.).\n",
    "\n",
    "###### Syntax:\n",
    "- `\\B`: Matches a position that is **not** a word boundary.\n",
    "- It asserts that the match must happen between two word characters or between two non-word characters.\n",
    "\n",
    "###### Example:\n",
    "1. `\\Bcat\\B`:\n",
    "   - This will match `\"cat\"` **only** when it is part of a larger word and not a standalone word.\n",
    "\n",
    "   - Matches: `\"concats\"`, `\"scattered\"`, `\"cats\"` (because \"cat\" is inside a larger word).\n",
    "   - Does not match: `\"cat is small\"` (because \"cat\" is a separate word and has word boundaries).\n",
    "\n",
    "2. `\\B123`:\n",
    "   - This will match `123` **only** if it is part of a larger word or number.\n",
    "\n",
    "   - Matches: `\"abc123\"`, `\"123abc\"`, `\"a123\"` (because there are no word boundaries around `123`).\n",
    "   - Does not match: `\"123 is\"`, `\"abc 123\"` (because `123` is surrounded by spaces, which create word boundaries).\n",
    "\n",
    "###### Key Point:\n",
    "- `\\B` ensures that the match occurs **inside a word**, where there are no boundaries.\n",
    "- It is useful for finding patterns that should not occur at the start or end of a word but rather in the middle."
   ]
  },
  {
   "cell_type": "code",
   "execution_count": 195,
   "id": "779e86ef",
   "metadata": {},
   "outputs": [
    {
     "name": "stdout",
     "output_type": "stream",
     "text": [
      "[]\n",
      "[]\n",
      "['is']\n"
     ]
    }
   ],
   "source": [
    "txt = \"The quick brown fox jumps over the lazy dog.\"\n",
    "\n",
    "# Using \\B to match a position between two word characters (not a word boundary)\n",
    "print(re.findall(r\"\\Bfox\", txt)) \n",
    "\n",
    "# Using \\B to match a position between two non-word characters (not a word boundary)\n",
    "txt2 = \"Hello! How are you?\"\n",
    "print(re.findall(r\"\\BHow\", txt2)) \n",
    "\n",
    "# Using \\B in the middle of a word\n",
    "print(re.findall(r\"\\Bis\", \"This is a test\")) "
   ]
  },
  {
   "cell_type": "markdown",
   "id": "a70d1e9e",
   "metadata": {},
   "source": [
    "# \\d"
   ]
  },
  {
   "cell_type": "code",
   "execution_count": 196,
   "id": "77e7ca3d",
   "metadata": {},
   "outputs": [
    {
     "name": "stdout",
     "output_type": "stream",
     "text": [
      "['8', '5', '8', '5', '7']\n",
      "Yes, there is at least one match!\n"
     ]
    }
   ],
   "source": [
    "txt = \"The rain 8585in Spain7\"\n",
    "\n",
    "#Check if the string contains any digits (numbers from 0-9):\n",
    "\n",
    "x = re.findall(\"\\d\", txt)\n",
    "\n",
    "print(x)\n",
    "\n",
    "if x:\n",
    "    print(\"Yes, there is at least one match!\")\n",
    "else:\n",
    "    print(\"No match\")\n"
   ]
  },
  {
   "cell_type": "markdown",
   "id": "6f4e4340",
   "metadata": {},
   "source": [
    "# \\D\n",
    "###### `\\D` in Regular Expressions:\n",
    "\n",
    "The `\\D` symbol is used to match **any character that is not a digit**. It is the opposite of `\\d`, which matches digits (0-9). Essentially, `\\D` will match anything except for numbers.\n",
    "\n",
    "###### Syntax:\n",
    "- `\\D`: Matches any character that is **not** a digit (0-9).\n",
    "\n",
    "###### Example:\n",
    "1. `\\D+`:\n",
    "   - This will match one or more non-digit characters.\n",
    "\n",
    "   - Matches: `\"abc\"`, `\"Hello\"`, `\"!@#$\"`.\n",
    "   - Does not match: `\"123\"`, `\"4567\"`, `\"1abc\"` (because they contain digits).\n",
    "\n",
    "2. `\\D{3}`:\n",
    "   - This matches exactly 3 non-digit characters in a row.\n",
    "\n",
    "   - Matches: `\"abc\"`, `\"xyz\"`, `\"!@#\"` (any 3 non-digit characters).\n",
    "   - Does not match: `\"123\"`, `\"12ab\"`, `\"a1b\"` (because they contain digits).\n",
    "\n",
    "###### Key Point:\n",
    "- `\\D` is useful when you want to exclude digits from your matches and focus on the characters that are non-numeric.\n",
    "- It's commonly used for matching text or symbols while ignoring numbers."
   ]
  },
  {
   "cell_type": "code",
   "execution_count": 199,
   "id": "f59c8232",
   "metadata": {},
   "outputs": [
    {
     "name": "stdout",
     "output_type": "stream",
     "text": [
      "['T', 'h', 'e', ' ', 'r', 'a', 'i', 'n', ' ', 'i', 'n', ' ', 'S', 'p', 'a', 'i', 'n']\n",
      "Yes, there is at least one match!\n"
     ]
    }
   ],
   "source": [
    "txt = \"The ra8in in 7Spain\"\n",
    "\n",
    "#Return a match at every no-digit character:\n",
    "x = re.findall(\"\\D\", txt)\n",
    "\n",
    "print(x)\n",
    "\n",
    "if x:\n",
    "    print(\"Yes, there is at least one match!\")\n",
    "else:\n",
    "    print(\"No match\")"
   ]
  },
  {
   "cell_type": "markdown",
   "id": "4823c69e",
   "metadata": {},
   "source": [
    "# \\s\n",
    "###### `\\s` in Regular Expressions:\n",
    "\n",
    "The `\\s` symbol is used to match any **whitespace character**. This includes spaces, tabs, newlines, and other forms of whitespace characters.\n",
    "\n",
    "###### Syntax:\n",
    "- `\\s`: Matches any **whitespace character**, such as a space, tab, or newline.\n",
    "\n",
    "###### Example:\n",
    "1. `\\s+`:\n",
    "   - This will match **one or more whitespace characters**.\n",
    "   \n",
    "   - Matches: `\" \"`, `\"\\t\"`, `\"\\n\"`, `\"   \"` (spaces, tabs, newlines).\n",
    "   - Does not match: `\"abc\"`, `\"123\"` (because they are not whitespace characters).\n",
    "\n",
    "2. `\\s{2}`:\n",
    "   - This will match **exactly two whitespace characters** in a row.\n",
    "   \n",
    "   - Matches: `\"  \"` (two spaces), `\"\\t\\t\"` (two tabs).\n",
    "   - Does not match: `\" \"` (one space), `\"   \"` (three spaces).\n",
    "\n",
    "###### Key Points:\n",
    "- `\\s` is useful when you need to handle spaces, tabs, and newlines in your regular expression patterns.\n",
    "- It's commonly used to match spaces or ensure there's some kind of whitespace between words or elements.\n"
   ]
  },
  {
   "cell_type": "code",
   "execution_count": 204,
   "id": "de6b1565",
   "metadata": {},
   "outputs": [
    {
     "name": "stdout",
     "output_type": "stream",
     "text": [
      "[' ', ' ', ' ']\n",
      "Yes, there is at least one match!\n"
     ]
    }
   ],
   "source": [
    "txt = \"The rain in Spain\"\n",
    "\n",
    "#Return a match at every white-space character:\n",
    "\n",
    "x = re.findall(\"\\s\", txt)\n",
    "\n",
    "print(x)\n",
    "\n",
    "if x:\n",
    "    print(\"Yes, there is at least one match!\")\n",
    "else:\n",
    "    print(\"No match\")"
   ]
  },
  {
   "cell_type": "markdown",
   "id": "47d0c1cd",
   "metadata": {},
   "source": [
    "# \\S\n",
    "###### `\\S` in Regular Expressions:\n",
    "\n",
    "The `\\S` symbol is used to match any **non-whitespace character**. It will match any character that is not a space, tab, newline, or any other whitespace character.\n",
    "\n",
    "###### Syntax:\n",
    "- `\\S`: Matches any **non-whitespace character**, including letters, digits, punctuation, etc.\n",
    "\n",
    "###### Example:\n",
    "1. `\\S+`:\n",
    "   - This will match **one or more non-whitespace characters** in a row.\n",
    "   \n",
    "   - Matches: `\"abc\"`, `\"123\"`, `\"hello123\"`, `\"!\"`, `\"$\"`, `\"abc@123\"`.\n",
    "   - Does not match: `\" \"`, `\"\\t\"`, `\"\\n\"` (whitespace characters).\n",
    "\n",
    "2. `\\S{3}`:\n",
    "   - This will match **exactly three consecutive non-whitespace characters**.\n",
    "   \n",
    "   - Matches: `\"abc\"`, `\"123\"`, `\"!\"`.\n",
    "   - Does not match: `\"a b\"` (because of the space), `\"abc \"` (because of the space at the end).\n",
    "\n",
    "###### Key Points:\n",
    "- `\\S` is the inverse of `\\s`. While `\\s` matches whitespace characters, `\\S` matches everything except them.\n",
    "- It's useful when you need to capture or exclude whitespace and focus on non-whitespace elements like words, digits, punctuation, or symbols."
   ]
  },
  {
   "cell_type": "code",
   "execution_count": 207,
   "id": "a5649b92",
   "metadata": {},
   "outputs": [
    {
     "name": "stdout",
     "output_type": "stream",
     "text": [
      "['8', 'T', 'h', 'e', 'r', 'a', 'i', 'n', 'i', 'n', 'S', 'p', 'a', 'i', 'n']\n",
      "Yes, there is at least one match!\n"
     ]
    }
   ],
   "source": [
    "txt = \"8The rain in Spain\"\n",
    "\n",
    "#Return a match at every NON white-space character:\n",
    "x = re.findall(\"\\S\", txt)\n",
    "\n",
    "print(x)\n",
    "\n",
    "if x:\n",
    "    print(\"Yes, there is at least one match!\")\n",
    "else:\n",
    "    print(\"No match\")"
   ]
  },
  {
   "cell_type": "markdown",
   "id": "8c65ecb5",
   "metadata": {},
   "source": [
    "# \\w\n",
    "###### `\\w` in Regular Expressions:\n",
    "\n",
    "The `\\w` symbol is used to match any **word character**. It includes letters (both lowercase and uppercase), digits, and the underscore (`_`).\n",
    "\n",
    "###### Syntax:\n",
    "- `\\w`: Matches a **word character**, i.e., any alphanumeric character or underscore (`_`).\n",
    "\n",
    "###### Example:\n",
    "1. `\\w+`:\n",
    "   - This will match **one or more word characters** in a row.\n",
    "   \n",
    "   - Matches: `\"abc\"`, `\"123\"`, `\"hello123\"`, `\"word_123\"`.\n",
    "   - Does not match: `\"!\"`, `\"@#\"`, `\" \"`, `\"\\t\"` (non-word characters or whitespace).\n",
    "\n",
    "2. `\\w{3}`:\n",
    "   - This will match **exactly three consecutive word characters**.\n",
    "   \n",
    "   - Matches: `\"abc\"`, `\"123\"`.\n",
    "   - Does not match: `\"ab\"` (only two characters) or `\"abc \"` (because of the space).\n",
    "\n",
    "###### Key Points:\n",
    "- `\\w` matches **letters (a-z, A-Z)**, **digits (0-9)**, and **underscores (_)**\n",
    "- It is the equivalent of `[a-zA-Z0-9_]`, so it captures alphanumeric words and underscores.\n",
    "- It's useful for matching identifiers (like variable names) or extracting words from a text where you want to ignore spaces, punctuation, and special symbols."
   ]
  },
  {
   "cell_type": "code",
   "execution_count": 211,
   "id": "a01079e8",
   "metadata": {},
   "outputs": [
    {
     "name": "stdout",
     "output_type": "stream",
     "text": [
      "['T', 'h', 'e', 'r', 'a', 'i', 'n', 'i', 'n', 'S', 'p', 'a', 'i', 'n', '_', '8']\n",
      "Yes, there is at least one match!\n"
     ]
    }
   ],
   "source": [
    "txt = \"$The %rain in Spain _8\"\n",
    "\n",
    "#Return a match at every word character (characters from a to Z, digits from 0-9, and the underscore _ character):\n",
    "\n",
    "x = re.findall(\"\\w\", txt)\n",
    "\n",
    "print(x)\n",
    "\n",
    "if x:\n",
    "    print(\"Yes, there is at least one match!\")\n",
    "else:\n",
    "    print(\"No match\")"
   ]
  },
  {
   "cell_type": "markdown",
   "id": "4eb7aae3",
   "metadata": {},
   "source": [
    "# \\W\n",
    "###### `\\W` in Regular Expressions:\n",
    "\n",
    "The `\\W` symbol is the **opposite** of `\\w`. It matches any character that is **not a word character**. A \"word character\" includes letters (both lowercase and uppercase), digits, and the underscore (`_`). Therefore, `\\W` matches everything except those characters.\n",
    "\n",
    "###### Syntax:\n",
    "- `\\W`: Matches a **non-word character**. This means anything that is not a letter, digit, or underscore.\n",
    "\n",
    "###### Example:\n",
    "1. `\\W+`:\n",
    "   - This will match **one or more consecutive non-word characters**.\n",
    "   \n",
    "   - Matches: `\"!\"`, `\"@\"`, `\"#\"`, `\" \"`, `\"&*(\"`.\n",
    "   - Does not match: `\"abc\"`, `\"123\"`, `\"word_123\"` (these are word characters).\n",
    "\n",
    "2. `\\W{3}`:\n",
    "   - This will match **exactly three consecutive non-word characters**.\n",
    "   \n",
    "   - Matches: `\"!@#\"`, `\" ^ \"` (space and punctuation).\n",
    "   - Does not match: `\"abc\"`, `\"123\"` (these are word characters).\n",
    "\n",
    "###### Key Points:\n",
    "- `\\W` matches **anything that is not a letter, digit, or underscore**.\n",
    "- It is the equivalent of `[^a-zA-Z0-9_]`, so it captures punctuation, spaces, special characters, and other non-word characters.\n",
    "- It's useful for identifying and extracting non-word characters from a string or to split text based on non-alphanumeric symbols."
   ]
  },
  {
   "cell_type": "code",
   "execution_count": 212,
   "id": "db33d1c2",
   "metadata": {},
   "outputs": [
    {
     "name": "stdout",
     "output_type": "stream",
     "text": [
      "['%', ' ', '*', ' ', ' ']\n",
      "Yes, there is at least one match!\n"
     ]
    }
   ],
   "source": [
    "txt = \"T%he r*ain in Spa_8in\"\n",
    "\n",
    "#Return a match at every NON word character (characters NOT between a and Z. Like \"!\", \"?\" white-space etc.):\n",
    "x = re.findall(\"\\W\", txt)\n",
    "\n",
    "print(x)\n",
    "\n",
    "if x:\n",
    "    print(\"Yes, there is at least one match!\")\n",
    "else:\n",
    "    print(\"No match\")"
   ]
  },
  {
   "cell_type": "markdown",
   "id": "782f8a3f",
   "metadata": {},
   "source": [
    "# \\Z\n",
    "###### `\\Z` in Regular Expressions:\n",
    "\n",
    "The `\\Z` symbol is used to match the **end of a string**. It behaves similarly to `$`, but there is a key difference. While `$` matches the end of the string or before a newline at the end of the string, `\\Z` matches strictly the **very end of the string**, even if there are newline characters at the end.\n",
    "\n",
    "###### Syntax:\n",
    "- `\\Z`: Matches the **end of the string**.\n",
    "\n",
    "###### Example:\n",
    "1. `re.search(r\"abc\\Z\", \"abc\")`:\n",
    "   - This will match because the string ends with `\"abc\"`.\n",
    "\n",
    "2. `re.search(r\"abc\\Z\", \"abc\\n\")`:\n",
    "   - This **won't match** because `\\Z` requires the string to end with exactly `\"abc\"` without a newline at the end. \n",
    "   - In contrast, `$` would match `\"abc\\n\"`.\n",
    "\n",
    "###### Key Points:\n",
    "- `\\Z` is stricter than `$` because it ensures that **no characters follow the end of the string**.\n",
    "- `\\Z` does not allow for any extra newline characters or anything beyond the end of the string. If there's a newline or any other character at the end, it won't match.\n",
    "- It’s especially useful when you want to ensure the string ends exactly at a point without any extra characters or newlines after it.\n",
    "\n",
    "###### Comparison with `$`:\n",
    "- **`$`**: Matches the end of the string or before a newline at the end of the string.\n",
    "- **`\\Z`**: Matches only at the **absolute end** of the string (no newline allowed after)."
   ]
  },
  {
   "cell_type": "code",
   "execution_count": 216,
   "id": "2588f0ae",
   "metadata": {},
   "outputs": [
    {
     "name": "stdout",
     "output_type": "stream",
     "text": [
      "['Spain']\n",
      "Yes, there is a match!\n"
     ]
    }
   ],
   "source": [
    "txt = \"The rain in Spain\"\n",
    "\n",
    "#Check if the string ends with \"Spain\":\n",
    "x = re.findall(\"Spain\\Z\", txt)\n",
    "\n",
    "print(x)\n",
    "\n",
    "if x:\n",
    "    print(\"Yes, there is a match!\")\n",
    "else:\n",
    "    print(\"No match\")"
   ]
  },
  {
   "cell_type": "markdown",
   "id": "b3088bae",
   "metadata": {},
   "source": [
    "###### The findall() Function\n",
    "- The findall() function returns a list containing all matches."
   ]
  },
  {
   "cell_type": "code",
   "execution_count": 223,
   "id": "6b965b6d",
   "metadata": {},
   "outputs": [
    {
     "name": "stdout",
     "output_type": "stream",
     "text": [
      "['ai', 'ai']\n"
     ]
    }
   ],
   "source": [
    "#Print a list of all matche\n",
    "txt = \"The rain in Spain\"\n",
    "x = re.findall(\"ai\", txt)\n",
    "print(x)"
   ]
  },
  {
   "cell_type": "markdown",
   "id": "fd95fac1",
   "metadata": {},
   "source": [
    "###### The search() Function\n",
    "- The search() function searches the string for a match, and returns a Match object if there is a match.\n",
    "\n",
    "- If there is more than one match, only the first occurrence of the match will be returned:"
   ]
  },
  {
   "cell_type": "code",
   "execution_count": 224,
   "id": "8284b6f8",
   "metadata": {},
   "outputs": [
    {
     "name": "stdout",
     "output_type": "stream",
     "text": [
      "The first white-space character is located in position: 3\n"
     ]
    }
   ],
   "source": [
    "#Search for the first white-space character in the string:\n",
    "txt = \"The rain in Spain\"\n",
    "x = re.search(\"\\s\", txt)\n",
    "\n",
    "print(\"The first white-space character is located in position:\", x.start())"
   ]
  },
  {
   "cell_type": "markdown",
   "id": "73333734",
   "metadata": {},
   "source": [
    "###### The split() Function\n",
    "- The split() function returns a list where the string has been split at each match:"
   ]
  },
  {
   "cell_type": "code",
   "execution_count": 225,
   "id": "06537764",
   "metadata": {},
   "outputs": [
    {
     "name": "stdout",
     "output_type": "stream",
     "text": [
      "['The', 'rain', 'in', 'Spain']\n",
      "['The', 'rain in Spain']\n"
     ]
    }
   ],
   "source": [
    "#Split at each white-space character:\n",
    "txt = \"The rain in Spain\"\n",
    "x = re.split(\"\\s\", txt)\n",
    "print(x)\n",
    "\n",
    "#You can control the number of occurrences by specifying the maxsplit parameter:\n",
    "#Split the string only at the first occurrence:\n",
    "txt = \"The rain in Spain\"\n",
    "x = re.split(\"\\s\", txt, 1)\n",
    "print(x)"
   ]
  },
  {
   "cell_type": "markdown",
   "id": "5774cbc8",
   "metadata": {},
   "source": [
    "###### The sub() Function\n",
    "- The sub() function replaces the matches with the text of your choice:"
   ]
  },
  {
   "cell_type": "code",
   "execution_count": 226,
   "id": "186ea7e4",
   "metadata": {},
   "outputs": [
    {
     "name": "stdout",
     "output_type": "stream",
     "text": [
      "The9rain9in9Spain\n"
     ]
    }
   ],
   "source": [
    "#Replace every white-space character with the number 9:\n",
    "txt = \"The rain in Spain\"\n",
    "x = re.sub(\"\\s\", \"9\", txt)\n",
    "print(x)"
   ]
  }
 ],
 "metadata": {
  "kernelspec": {
   "display_name": "Python 3 (ipykernel)",
   "language": "python",
   "name": "python3"
  },
  "language_info": {
   "codemirror_mode": {
    "name": "ipython",
    "version": 3
   },
   "file_extension": ".py",
   "mimetype": "text/x-python",
   "name": "python",
   "nbconvert_exporter": "python",
   "pygments_lexer": "ipython3",
   "version": "3.11.5"
  }
 },
 "nbformat": 4,
 "nbformat_minor": 5
}

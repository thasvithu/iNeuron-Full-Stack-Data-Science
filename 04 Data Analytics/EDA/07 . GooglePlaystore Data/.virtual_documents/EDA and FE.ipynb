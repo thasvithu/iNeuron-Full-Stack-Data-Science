import pandas as pd


data = pd.read_csv("googleplaystore.csv")


data.head()





data.shape


# last 5 rows
data.tail()


data.sample()


data.sample(n=10)


data.info()


data.describe()


data.describe().T


data.describe(include="all")


data.duplicated()


data[data.duplicated()]


data["Reviews"].head(n=10)


data["Reviews"].shape


data["Reviews"].dtypes


data.Reviews.str.isnumeric()


data.Reviews.str.isnumeric().value_counts()


~data.Reviews.str.isnumeric()


data[~data.Reviews.str.isnumeric()]


data[data.Reviews.str.isnumeric()]


True


~True


~(True)


data_copy = data.copy()


data_copy.head()


data_copy.index[10472]


data_copy.drop(index=10472)


data_copy = data_copy.drop(index=10472)
data_copy.shape


data.shape


data_copy["Reviews"].dtypes


data_copy["Reviews"] = data_copy["Reviews"].astype("int")


data_copy["Reviews"].dtypes


data_copy["Size"]


data_copy["Size"].dtype


data_copy["Size"].unique()


data_copy["Size"] = data_copy["Size"].str.replace("M", "000")


data_copy["Size"] = data_copy["Size"].str.replace("k", "")


data_copy["Size"].unique()


import numpy as np
data_copy["Size"] = data_copy["Size"].str.replace("Varies with device", str(np.nan))


data_copy["Size"].unique()


data_copy["Size"].dtype


data_copy["Size"] = data_copy["Size"].astype("float")


data_copy["Size"].dtype


data_copy["Size"].unique()


data["Size"][2]


8.7 * 1000


data_copy["Size"][2] * 1000


17.7 * 1000


for i in data_copy["Size"]:
    if i < 10:
        data_copy["Size"] = data_copy["Size"].replace(i, i*1000)


data_copy["Size"].replace(8.7, 8.7 * 1000)


data_copy["Size"].head(50)


data_copy.columns


data_copy["Installs"] = data_copy["Installs"].str.replace("+", "")


data_copy["Installs"] = data_copy["Installs"].str.replace(",", "")


data_copy["Installs"]


data_copy["Price"].unique()


char_to_remove = ["+", ",", "$"]
cols_to_clean = ["Installs", "Price"]

for item in char_to_remove:
    for col in cols_to_clean:
        data_copy[col] = data_copy[col].str.replace(item, "")


data_copy.head(2)


data.head(3)


data_copy.info()


data_copy["Installs"] = data_copy["Installs"].astype("int")


data_copy["Price"] = data_copy["Price"].astype("float")


data_copy.info()


data_copy["Last Updated"]


data_copy["Last Updated"].dtype


data_copy["Last Updated"] = pd.to_datetime(data_copy["Last Updated"])


data_copy["Last Updated"].dtype


data_copy["year"] = data_copy["Last Updated"].dt.year


data_copy["month"] = data_copy["Last Updated"].dt.month


data_copy["day"] = data_copy["Last Updated"].dt.day


data_copy.head()


data_copy["Android Ver"]


data_copy["Android Ver"] = data_copy["Android Ver"].str.replace(" and up", "")
data_copy["Android Ver"].unique()


data_copy["Android Ver"] = data_copy["Android Ver"].str.replace("W", "")
data_copy["Android Ver"].unique()


data_copy["Android Ver"] = data_copy["Android Ver"].str.replace("Varies with device", str(np.nan))
data_copy["Android Ver"].unique()


data_copy["Android Ver"].dtype


data_copy.to_csv("cleaned_google_playstore_data.csv", index=False)


data_copy.columns


data_copy.dtypes








import numpy as np
import matplotlib as pyplot
import seaborn as sns
import warnings

warnings.filterwarnings("ignore")


df = pd.read_csv("googleplaystore.csv")


df.head()


df.tail()


df.sample()


df.shape


df.info()


df.describe()


df.describe().T


df.columns


df[df.duplicated()]


df.duplicated("App").value_counts()


df.drop_duplicates(subset="App", keep="first")


df = df.drop_duplicates(subset="App", keep="first")
df.shape


df.info()


df.select_dtypes("O")


df = pd.read_csv("cleaned_google_playstore_data.csv")
df.head()


df.shape


df.duplicated(subset="App")


df.duplicated(subset="App").value_counts()


df.drop_duplicates(subset="App", keep="first")


df = df.drop_duplicates(subset="App", keep="first")
df.shape


numeric_featires = [feature for feature in df.columns if df[feature].dtype != "O"]
numeric_featires


numeric_featires = df.select_dtypes("number")
numeric_featires.columns


categorical_features = df.select_dtypes("O")
categorical_features.columns


df["Type"].value_counts()


df["Type"].value_counts(normalize=True) * 100


for col in categorical_features:
    print(f"{df[col].value_counts(normalize=True)*100}")
    print("---------------------------------------------------")


sns.countplot(data=df, x="Type", palette="tab10")


sns.countplot(data=df, x="Content Rating", palette="tab10")


import matplotlib.pyplot as plt

for col in categorical_features.columns:
    sns.countplot(data=df, x=col, palette="tab10")
    plt.show()


plt.figure(figsize=(20, 15))
plt.suptitle("Univariate Analysis of Ctegorical Features", fontsize=20, fontweight="bold", alpha=0.8, y=1.)
category = ["Type", "Content Rating"]
for i in range(0, len(category)):
    plt.subplot(2, 2, i+1)
    sns.countplot(data=df, x=category[i], palette="Set2")
    plt.xlabel(category[i])
    plt.xticks(rotation=45)
    plt.tight_layout()


numeric_featires.columns


sns.kdeplot(data=df, x="Price")


sns.kdeplot(data=df, x="Reviews")


sns.kdeplot(data=df, x="Rating", shade=True, color="r")


plt.figure(figsize=(15, 15))
plt.suptitle("Univariate Analysis of Numerical Features", fontsize=20, fontweight="bold", alpha=0.8, y=1.)

for i in range(0, len(numeric_featires.columns)):
    plt.subplot(5, 3, i+1)
    sns.kdeplot(data=df, x=numeric_featires.columns[i], shade=True, color="r")
    plt.xlabel(numeric_featires.columns[i])
    plt.tight_layout()


plt.figure(figsize=(15, 15))
plt.suptitle("Univariate Analysis of Numerical Features", fontsize=20, fontweight="bold", alpha=0.8, y=1.)

for i in range(0, len(numeric_featires.columns)):
    plt.subplot(5, 3, i+1)
    sns.distplot(x=df[numeric_featires.columns[i]])
    plt.xlabel(numeric_featires.columns[i])
    plt.tight_layout()


plt.figure(figsize=(15, 15))
plt.suptitle("Univariate Analysis of Numerical Features", fontsize=20, fontweight="bold", alpha=0.8, y=1.)

for i in range(0, len(numeric_featires.columns)):
    plt.subplot(5, 3, i+1)
    sns.histplot(data=df, x=numeric_featires.columns[i], color="r", kde=True)
    plt.xlabel(numeric_featires.columns[i])
    plt.tight_layout()





sns.countplot(data=df, x="App")


df["App"].value_counts()


df["App"].value_counts()


app_counts = df["App"].value_counts().head(10)


plt.pie(x=app_counts, labels=app_counts.index, autopct="%1.1f%%")
plt.show()


df["App"].value_counts().head(15).plot.pie(autopct="%1.1f%%")


df["Category"].value_counts().head(10).plot.pie(autopct="%1.1f%%")


df["Category"].value_counts()[:10]


df["Category"].value_counts()[:10].plot.pie(autopct="%1.1f%%")


df["Category"].value_counts()[:10].plot.bar()
plt.show()


category = pd.DataFrame(df["Category"].value_counts()[:10])
category


plt.figure(figsize=(15, 6))  # Set the figure size
sns.barplot(data=category, x="Category", y="count", palette="hls")
plt.xticks(rotation=90)  # Rotate the x-axis labels for readability
plt.tight_layout()  # Adjust layout to avoid clipping
plt.savefig("test.png", dpi=300)  # Save with minimal padding
plt.show()


# Create the plot
plt.figure(figsize=(15, 8))
ax = sns.barplot(data=category, x="Category", y="count", palette="hls")
plt.xticks(rotation=90)

# Add the numbers on top of each bar
for p in ax.patches:
    ax.annotate(f'{p.get_height():.0f}',  # The height of each bar
                (p.get_x() + p.get_width() / 2., p.get_height()),  # Position (x, y)
                ha='center', va='center',  # Alignment
                fontsize=12, color='black',  # Font size and color
                xytext=(0, 9),  # Adjust the position slightly above the bar
                textcoords='offset points')

# Adjust layout to avoid clipping
plt.tight_layout()
plt.show()


# which category having larger number of instalation
df[["Category", "Installs"]]


df.groupby("Category")["Installs"].sum()


df.groupby("Category")["Installs"].sum().sort_values(ascending=False)


data_cat_installs = df.groupby("Category")["Installs"].sum().sort_values(ascending=False).reset_index()
data_cat_installs


data_cat_installs.head(10).plot.bar()


sns.barplot(data=data_cat_installs.iloc[:10], x="Installs", y="Category")
plt.xticks(rotation=90)
plt.show()


plt.bar(x=data_cat_installs["Category"].iloc[:10], height=data_cat_installs["Installs"].iloc[:10])
plt.xticks(rotation=90)
plt.show()


# what are the Top 5 most installed Apps in Each popular Categories?


df["Installs"]



